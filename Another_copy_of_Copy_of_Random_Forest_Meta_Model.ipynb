{
  "nbformat": 4,
  "nbformat_minor": 0,
  "metadata": {
    "colab": {
      "provenance": [],
      "authorship_tag": "ABX9TyPaJkaOaC4tbuZxh+oxPOff",
      "include_colab_link": true
    },
    "kernelspec": {
      "name": "python3",
      "display_name": "Python 3"
    },
    "language_info": {
      "name": "python"
    }
  },
  "cells": [
    {
      "cell_type": "markdown",
      "metadata": {
        "id": "view-in-github",
        "colab_type": "text"
      },
      "source": [
        "<a href=\"https://colab.research.google.com/github/LamuGit/FinText-Data/blob/main/Another_copy_of_Copy_of_Random_Forest_Meta_Model.ipynb\" target=\"_parent\"><img src=\"https://colab.research.google.com/assets/colab-badge.svg\" alt=\"Open In Colab\"/></a>"
      ]
    },
    {
      "cell_type": "code",
      "source": [
        "!pip install xlsxwriter\n",
        "!pip install pip install PyPortfolioOpt\n",
        "!pip install cvxpy\n",
        "!pip install PyPortfolioOpt\n",
        "import pandas as pd\n",
        "from xlsxwriter import Workbook\n",
        "from sklearn.ensemble import RandomForestRegressor\n",
        "from sklearn.model_selection import train_test_split, GridSearchCV, RandomizedSearchCV\n",
        "from sklearn.metrics import mean_squared_error, mean_absolute_error, r2_score, mean_absolute_percentage_error\n",
        "from sklearn.preprocessing import StandardScaler\n",
        "from sklearn.exceptions import ConvergenceWarning\n",
        "import warnings\n",
        "warnings.filterwarnings(\"ignore\", category=ConvergenceWarning)\n",
        "import yfinance as yf\n",
        "import numpy as np\n",
        "import matplotlib.pyplot as plt\n",
        "#import PyPortfolioOpt\n",
        "import pypfopt\n",
        "from pypfopt import black_litterman, risk_models\n",
        "from pypfopt import BlackLittermanModel, plotting\n",
        "from pypfopt import EfficientFrontier\n",
        "from pypfopt import EfficientFrontier, objective_functions\n",
        "\n",
        "\n",
        "\n",
        "# Load the files\n",
        "df1 = pd.read_excel('/Extracted_data_sentiment_Lamu_FinBert_ProsusAI.xlsx')\n",
        "df2 = pd.read_excel('/Extracted_data_sentiment_Lamu_Finbert_yiyanghkust.xlsx')\n",
        "df3 = pd.read_excel('/Extracted_data_sentiment_Lamu_distilroberta_mrm8488.xlsx')\n",
        "\n",
        "# Define a function to calculate the sentiment score for each sentence\n",
        "def calculate_sentiment_score(row):\n",
        "    sentiment_score = row['Positive Probability'] - row['Negative Probability'] + (row['Neutral Probability'] * 0.5)\n",
        "    return sentiment_score\n",
        "\n",
        "# Apply the function to each row of the dataframes\n",
        "df1['Sentiment Score'] = df1.apply(calculate_sentiment_score, axis=1)\n",
        "df2['Sentiment Score'] = df2.apply(calculate_sentiment_score, axis=1)\n",
        "df3['Sentiment Score'] = df3.apply(calculate_sentiment_score, axis=1)\n",
        "\n",
        "# Rename the column 'Sentiment Score' in df3 to 'Sentiment Score_llm3'\n",
        "df3 = df3.rename(columns={'Sentiment Score': 'Sentiment Score_llm3'})\n",
        "\n",
        "# Rename the column 'Sentiment Score' in df1 and df2\n",
        "df1 = df1.rename(columns={'Sentiment Score': 'Sentiment Score_llm1'})\n",
        "df2 = df2.rename(columns={'Sentiment Score': 'Sentiment Score_llm2'})\n",
        "\n",
        "# Merge the dataframes on the Sentence column\n",
        "merged_df = pd.merge(df1, df2, on='Sentence', how='inner')\n",
        "merged_df = pd.merge(merged_df, df3, on='Sentence', how='inner')\n",
        "\n",
        "# Define the feature columns (sentiment scores from each model)\n",
        "X = merged_df[['Sentiment Score_llm1', 'Sentiment Score_llm2', 'Sentiment Score_llm3']]\n",
        "\n",
        "# Define the target column (average sentiment score)\n",
        "y = merged_df[['Sentiment Score_llm1', 'Sentiment Score_llm2', 'Sentiment Score_llm3']].mean(axis=1)\n",
        "\n",
        "# Scale the data using StandardScaler\n",
        "scaler = StandardScaler()\n",
        "X_scaled = scaler.fit_transform(X)\n",
        "\n",
        "# Split the data into training and testing sets\n",
        "X_train, X_test, y_train, y_test = train_test_split(X_scaled, y, test_size=0.2, random_state=42)\n",
        "\n",
        "# Define hyperparameter grid for Random Forest\n",
        "param_grid = {\n",
        "    'n_estimators': [50, 100, 200],\n",
        " 'max_depth': [None, 5, 10],\n",
        " 'min_samples_split': [2, 5, 10]\n",
        "}\n",
        "\n",
        "# Perform grid search to find optimal hyperparameters\n",
        "grid_search = GridSearchCV(RandomForestRegressor(random_state=42), param_grid, cv=5, scoring='neg_mean_squared_error')\n",
        "grid_search.fit(X_train, y_train)\n",
        "\n",
        "# Train a Random Forest model on the training data using optimal hyperparameters\n",
        "rf = RandomForestRegressor(**grid_search.best_params_)\n",
        "rf.fit(X_train, y_train)\n",
        "\n",
        "# Make predictions on the testing data\n",
        "y_pred = rf.predict(X_test)\n",
        "\n",
        "# Evaluate the model using multiple metrics\n",
        "mse = mean_squared_error(y_test, y_pred)\n",
        "mae = mean_absolute_error(y_test, y_pred)\n",
        "r2 = r2_score(y_test, y_pred)\n",
        "print(f'MSE: {mse:.4f}, MAE: {mae:.4f}, R2: {r2:.4f}')\n",
        "\n",
        "# Save the results to a new spreadsheet\n",
        "results_df = pd.DataFrame({\n",
        "    'Actual': y_test,\n",
        "    'Predicted': y_pred\n",
        "})\n",
        "results_df.to_excel('results.xlsx', index=False, engine='xlsxwriter')\n",
        "\n",
        "# Save the model performance metrics to a new spreadsheet\n",
        "metrics_df = pd.DataFrame({\n",
        "    'Metric': ['MSE', 'MAE', 'R2'],\n",
        "    'Value': [mse, mae, r2]\n",
        "})\n",
        "metrics_df.to_excel('metrics.xlsx', index=False, engine='xlsxwriter')\n",
        "\n",
        "# Use the trained model to make predictions on the entire dataset\n",
        "merged_df['Meta Model Score'] = rf.predict(X_scaled)\n",
        "\n",
        "# Save the resulting dataframe to a new spreadsheet\n",
        "merged_df.to_excel('meta_model_scores_update.xlsx', index=False, engine='xlsxwriter')\n",
        "\n",
        "\n",
        "###################################################\n",
        "#get stock prices\n",
        "##################################################\n",
        "# Define the stock symbols\n",
        "\n",
        "# Load the meta model scores\n",
        "meta_model_scores = pd.read_excel('meta_model_scores_update.xlsx')\n",
        "\n",
        "# Get the stock codes\n",
        "stock_codes = meta_model_scores['Stock'].unique()\n",
        "\n",
        "# Get the top 10 stock codes\n",
        "top_10_stock_codes = meta_model_scores['Stock'].value_counts().head(10).index\n",
        "\n",
        "# Create an empty list to store the stock price data\n",
        "stock_price_data_list = []\n",
        "\n",
        "# Loop through each stock code and get the stock price data for 2016\n",
        "for stock_code in top_10_stock_codes:\n",
        "    ticker = yf.Ticker(stock_code)\n",
        "    hist = ticker.history(start='2016-01-01', end='2024-07-31')\n",
        "    hist['Stock'] = stock_code\n",
        "    hist.reset_index(inplace=True)\n",
        "    hist.rename(columns={'index': 'Date'}, inplace=True)\n",
        "    stock_price_data_list.append(hist)\n",
        "\n",
        "# Concatenate the stock price data into a single DataFrame\n",
        "stock_price_data = pd.concat(stock_price_data_list)\n",
        "\n",
        "# Convert 'Date' column to datetime objects with utc=True to handle timezone-aware datetimes\n",
        "stock_price_data['Date'] = pd.to_datetime(stock_price_data['Date'], utc=True)\n",
        "\n",
        "# Now convert to timezone-naive if necessary\n",
        "stock_price_data['Date'] = stock_price_data['Date'].dt.tz_localize(None)\n",
        "\n",
        "# Save the stock price data to a new Excel file\n",
        "stock_price_data.to_excel('stock_price_data_2016to2024.xlsx', index=False, engine='xlsxwriter')\n",
        "\n",
        "###############################################################\n",
        "#Black-Litterman v1\n",
        "###############################################################\n",
        "tickers = top_10_stock_codes.tolist()\n",
        "#tickers = [\"MSFT\", \"AAPL\", \"ORCL\", \"BAC\", \"JPM\", \"BHP\", \"TSLA\", \"AMZN\", \"CSCO\", \"PEP\"]\n",
        "ohlc = yf.download(tickers, period=\"max\")\n",
        "prices = ohlc[\"Adj Close\"]\n",
        "prices.tail()\n",
        "#market prices\n",
        "market_prices = yf.download(\"SPY\", period=\"max\")[\"Adj Close\"]\n",
        "market_prices.head()\n",
        "#market cap\n",
        "mcaps = {}\n",
        "for t in tickers:\n",
        "    stock = yf.Ticker(t)\n",
        "    mcaps[t] = stock.info[\"marketCap\"]\n",
        "mcaps\n",
        "\n",
        "#Black litterman prior\n",
        "S = risk_models.CovarianceShrinkage(prices).ledoit_wolf()\n",
        "delta = black_litterman.market_implied_risk_aversion(market_prices)\n",
        "delta\n",
        "plotting.plot_covariance(S, plot_correlation=True);\n",
        "market_prior = black_litterman.market_implied_prior_returns(mcaps, delta, S)\n",
        "market_prior\n",
        "market_prior.plot.barh(figsize=(10,5));\n",
        "\n",
        "#Views\n",
        "# Map meta model scores to expected returns using a linear transformation for each stock\n",
        "absolute_return_views = {}\n",
        "for stock_code in top_10_stock_codes:\n",
        "    stock_data = stock_price_data[stock_price_data['Stock'] == stock_code]\n",
        "    stock_returns = stock_data['Close'].pct_change().mean()\n",
        "    stock_meta_model_scores = meta_model_scores[meta_model_scores['Stock'] == stock_code]['Meta Model Score']\n",
        "    min_meta_model_score = stock_meta_model_scores.min()\n",
        "    max_meta_model_score = stock_meta_model_scores.max()\n",
        "    min_stock_return = stock_returns.min()\n",
        "    max_stock_return = stock_returns.max()\n",
        "\n",
        "    # Apply linear transformation\n",
        "    expected_return = (stock_meta_model_scores.mean() - min_meta_model_score) / (max_meta_model_score - min_meta_model_score) * (max_stock_return - min_stock_return) + min_stock_return\n",
        "    absolute_return_views[stock_code] = expected_return*100\n",
        "\n",
        "# Convert absolute return views to a pandas Series\n",
        "absolute_return_views = pd.Series(absolute_return_views)\n",
        "\n",
        "\n",
        "\n",
        "#posterior returns\n",
        "bl = BlackLittermanModel(S, pi=market_prior, absolute_views=absolute_return_views)\n",
        "ret_bl = bl.bl_returns()\n",
        "ret_bl\n",
        "\n",
        "rets_df = pd.DataFrame([market_prior, ret_bl, pd.Series(absolute_return_views)],\n",
        "             index=[\"Prior\", \"Posterior\", \"Views\"]).T\n",
        "rets_df\n",
        "rets_df.plot.bar(figsize=(12,8));\n",
        "\n",
        "#posterior covariance\n",
        "S_bl = bl.bl_cov()\n",
        "S_bl\n",
        "\n",
        "ef = EfficientFrontier(ret_bl, S_bl)\n",
        "ef.add_objective(objective_functions.L2_reg)\n",
        "ef.max_sharpe()\n",
        "weights = ef.clean_weights()\n",
        "weights\n"
      ],
      "metadata": {
        "colab": {
          "base_uri": "https://localhost:8080/",
          "height": 1000
        },
        "id": "u_2WAjdPg_xH",
        "outputId": "9562c345-4456-4b79-c3d3-f501d58fbdd8"
      },
      "execution_count": null,
      "outputs": [
        {
          "output_type": "stream",
          "name": "stdout",
          "text": [
            "Collecting xlsxwriter\n",
            "  Downloading XlsxWriter-3.2.0-py3-none-any.whl.metadata (2.6 kB)\n",
            "Downloading XlsxWriter-3.2.0-py3-none-any.whl (159 kB)\n",
            "\u001b[?25l   \u001b[90m━━━━━━━━━━━━━━━━━━━━━━━━━━━━━━━━━━━━━━━━\u001b[0m \u001b[32m0.0/159.9 kB\u001b[0m \u001b[31m?\u001b[0m eta \u001b[36m-:--:--\u001b[0m\r\u001b[2K   \u001b[90m━━━━━━━━━━━━━━━━━━━━━━━━━━━━━━━━━━━━━━━━\u001b[0m \u001b[32m159.9/159.9 kB\u001b[0m \u001b[31m6.0 MB/s\u001b[0m eta \u001b[36m0:00:00\u001b[0m\n",
            "\u001b[?25hInstalling collected packages: xlsxwriter\n",
            "Successfully installed xlsxwriter-3.2.0\n",
            "Requirement already satisfied: pip in /usr/local/lib/python3.10/dist-packages (24.1.2)\n",
            "\u001b[31mERROR: Could not find a version that satisfies the requirement install (from versions: none)\u001b[0m\u001b[31m\n",
            "\u001b[0m\u001b[31mERROR: No matching distribution found for install\u001b[0m\u001b[31m\n",
            "\u001b[0mRequirement already satisfied: cvxpy in /usr/local/lib/python3.10/dist-packages (1.5.2)\n",
            "Requirement already satisfied: osqp>=0.6.2 in /usr/local/lib/python3.10/dist-packages (from cvxpy) (0.6.7.post0)\n",
            "Requirement already satisfied: ecos>=2 in /usr/local/lib/python3.10/dist-packages (from cvxpy) (2.0.14)\n",
            "Requirement already satisfied: clarabel>=0.5.0 in /usr/local/lib/python3.10/dist-packages (from cvxpy) (0.9.0)\n",
            "Requirement already satisfied: scs>=3.2.4.post1 in /usr/local/lib/python3.10/dist-packages (from cvxpy) (3.2.6)\n",
            "Requirement already satisfied: numpy>=1.15 in /usr/local/lib/python3.10/dist-packages (from cvxpy) (1.26.4)\n",
            "Requirement already satisfied: scipy>=1.1.0 in /usr/local/lib/python3.10/dist-packages (from cvxpy) (1.13.1)\n",
            "Requirement already satisfied: qdldl in /usr/local/lib/python3.10/dist-packages (from osqp>=0.6.2->cvxpy) (0.1.7.post4)\n",
            "Collecting PyPortfolioOpt\n",
            "  Downloading pyportfolioopt-1.5.5-py3-none-any.whl.metadata (23 kB)\n",
            "Requirement already satisfied: cvxpy<2.0.0,>=1.1.19 in /usr/local/lib/python3.10/dist-packages (from PyPortfolioOpt) (1.5.2)\n",
            "Requirement already satisfied: numpy<2.0.0,>=1.22.4 in /usr/local/lib/python3.10/dist-packages (from PyPortfolioOpt) (1.26.4)\n",
            "Requirement already satisfied: pandas>=0.19 in /usr/local/lib/python3.10/dist-packages (from PyPortfolioOpt) (2.1.4)\n",
            "Requirement already satisfied: scipy<2.0,>=1.3 in /usr/local/lib/python3.10/dist-packages (from PyPortfolioOpt) (1.13.1)\n",
            "Requirement already satisfied: osqp>=0.6.2 in /usr/local/lib/python3.10/dist-packages (from cvxpy<2.0.0,>=1.1.19->PyPortfolioOpt) (0.6.7.post0)\n",
            "Requirement already satisfied: ecos>=2 in /usr/local/lib/python3.10/dist-packages (from cvxpy<2.0.0,>=1.1.19->PyPortfolioOpt) (2.0.14)\n",
            "Requirement already satisfied: clarabel>=0.5.0 in /usr/local/lib/python3.10/dist-packages (from cvxpy<2.0.0,>=1.1.19->PyPortfolioOpt) (0.9.0)\n",
            "Requirement already satisfied: scs>=3.2.4.post1 in /usr/local/lib/python3.10/dist-packages (from cvxpy<2.0.0,>=1.1.19->PyPortfolioOpt) (3.2.6)\n",
            "Requirement already satisfied: python-dateutil>=2.8.2 in /usr/local/lib/python3.10/dist-packages (from pandas>=0.19->PyPortfolioOpt) (2.8.2)\n",
            "Requirement already satisfied: pytz>=2020.1 in /usr/local/lib/python3.10/dist-packages (from pandas>=0.19->PyPortfolioOpt) (2024.1)\n",
            "Requirement already satisfied: tzdata>=2022.1 in /usr/local/lib/python3.10/dist-packages (from pandas>=0.19->PyPortfolioOpt) (2024.1)\n",
            "Requirement already satisfied: qdldl in /usr/local/lib/python3.10/dist-packages (from osqp>=0.6.2->cvxpy<2.0.0,>=1.1.19->PyPortfolioOpt) (0.1.7.post4)\n",
            "Requirement already satisfied: six>=1.5 in /usr/local/lib/python3.10/dist-packages (from python-dateutil>=2.8.2->pandas>=0.19->PyPortfolioOpt) (1.16.0)\n",
            "Downloading pyportfolioopt-1.5.5-py3-none-any.whl (61 kB)\n",
            "\u001b[2K   \u001b[90m━━━━━━━━━━━━━━━━━━━━━━━━━━━━━━━━━━━━━━━━\u001b[0m \u001b[32m61.9/61.9 kB\u001b[0m \u001b[31m4.3 MB/s\u001b[0m eta \u001b[36m0:00:00\u001b[0m\n",
            "\u001b[?25hInstalling collected packages: PyPortfolioOpt\n",
            "Successfully installed PyPortfolioOpt-1.5.5\n",
            "MSE: 0.0004, MAE: 0.0044, R2: 0.9906\n"
          ]
        },
        {
          "output_type": "stream",
          "name": "stderr",
          "text": [
            "[*********************100%%**********************]  10 of 10 completed\n",
            "[*********************100%%**********************]  1 of 1 completed\n",
            "/usr/local/lib/python3.10/dist-packages/pypfopt/efficient_frontier/efficient_frontier.py:259: UserWarning: max_sharpe transforms the optimization problem so additional objectives may not work as expected.\n",
            "  warnings.warn(\n"
          ]
        },
        {
          "output_type": "execute_result",
          "data": {
            "text/plain": [
              "OrderedDict([('AAPL', 0.18811),\n",
              "             ('AMZN', 0.13489),\n",
              "             ('BAC', 0.06745),\n",
              "             ('BHP', 0.0672),\n",
              "             ('CSCO', 0.0619),\n",
              "             ('JPM', 0.07607),\n",
              "             ('MSFT', 0.13262),\n",
              "             ('ORCL', 0.08512),\n",
              "             ('PEP', 0.03275),\n",
              "             ('TSLA', 0.15388)])"
            ]
          },
          "metadata": {},
          "execution_count": 1
        },
        {
          "output_type": "display_data",
          "data": {
            "text/plain": [
              "<Figure size 1000x500 with 2 Axes>"
            ],
            "image/png": "[encoded data removed]"
          },
          "metadata": {}
        },
        {
          "output_type": "display_data",
          "data": {
            "text/plain": [
              "<Figure size 1200x800 with 1 Axes>"
            ],
            "image/png": "[encoded data removed]"
          },
          "metadata": {}
        }
      ]
    },
    {
      "cell_type": "markdown",
      "source": [
        "# New Section"
      ],
      "metadata": {
        "id": "qR4n-v-J22x6"
      }
    },
    {
      "cell_type": "code",
      "source": [
        "def quarterly_rebalancing(prices, meta_model_scores, market_prior, S, mcaps):\n",
        "    print(\"Prices length:\", len(prices))\n",
        "    print(\"Meta model scores length:\", len(meta_model_scores))\n",
        "\n",
        "    # Filter the data to only consider the data from 2016 onwards\n",
        "    prices_2016 = prices[prices.index >= '2016-01-01']\n",
        "    meta_model_scores.index = pd.to_datetime(meta_model_scores.index)\n",
        "    meta_model_scores_2016 = meta_model_scores[meta_model_scores.index >= '2016-01-01']\n",
        "\n",
        "    print(\"Prices 2016 length:\", len(prices_2016))\n",
        "    print(\"Meta model scores 2016 length:\", len(meta_model_scores_2016))\n",
        "\n",
        "    # Initialize the portfolio weights\n",
        "    weights = [1/len(tickers) for _ in tickers]\n",
        "\n",
        "    # Initialize the portfolio performance\n",
        "    portfolio_performance = []\n",
        "\n",
        "    # Initialize the equally weighted portfolio performance\n",
        "    equally_weighted_performance = []\n",
        "\n",
        "    # Initialize the cap-weighted portfolio performance\n",
        "    cap_weighted_performance = []\n",
        "\n",
        "    # Iterate over the quarters\n",
        "    for quarter in range(0, len(prices_2016), 63):\n",
        "        print(\"Quarter:\", quarter)\n",
        "\n",
        "        # Get the prices for the current quarter\n",
        "        quarter_prices = prices_2016.iloc[quarter:quarter+63]\n",
        "\n",
        "        # Get the meta model scores for the current quarter\n",
        "        quarter_meta_model_scores = meta_model_scores_2016.iloc[quarter:quarter+63]\n",
        "\n",
        "        print(\"Weights:\", weights)\n",
        "        print(\"Quarter prices:\", quarter_prices.iloc[-1])\n",
        "\n",
        "        # Map meta model scores to expected returns using a linear transformation for each stock\n",
        "        absolute_return_views = {}\n",
        "        for stock_code in top_10_stock_codes:\n",
        "            stock_data = stock_price_data[stock_price_data['Stock'] == stock_code]\n",
        "            stock_returns = stock_data['Close'].pct_change().mean()\n",
        "            stock_meta_model_scores = quarter_meta_model_scores[quarter_meta_model_scores['Stock'] == stock_code]['Meta Model Score']\n",
        "\n",
        "            if stock_meta_model_scores.empty:\n",
        "                # If there is no data for meta_model_scores, set expected return to mean return\n",
        "                expected_return = stock_returns.mean() * 100\n",
        "            else:\n",
        "                min_meta_model_score = stock_meta_model_scores.min()\n",
        "                max_meta_model_score = stock_meta_model_scores.max()\n",
        "                min_stock_return = stock_returns.min()\n",
        "                max_stock_return = stock_returns.max()\n",
        "\n",
        "                # Apply linear transformation\n",
        "                expected_return = (stock_meta_model_scores.mean() - min_meta_model_score) / (max_meta_model_score - min_meta_model_score) * (max_stock_return - min_stock_return) + min_stock_return\n",
        "                expected_return = expected_return * 100\n",
        "\n",
        "            absolute_return_views[stock_code] = expected_return\n",
        "\n",
        "        # Convert absolute return views to a pandas Series\n",
        "        absolute_return_views = pd.Series(absolute_return_views)\n",
        "\n",
        "        # Calculate posterior weights using market_prior, S, and mcaps\n",
        "        bl = BlackLittermanModel(S, pi=market_prior, absolute_views=absolute_return_views)\n",
        "        ret_bl = bl.bl_returns()\n",
        "        S_bl = bl.bl_cov()\n",
        "        ef = EfficientFrontier(ret_bl, S_bl)\n",
        "        ef.add_objective(objective_functions.L2_reg)\n",
        "        ef.max_quadratic_utility()\n",
        "        weights = ef.clean_weights()\n",
        "\n",
        "        # Calculate the BL portfolio performance for the current quarter\n",
        "        portfolio_performance.append(np.sum(pd.Series(weights) * pd.Series(quarter_prices.iloc[-1])))\n",
        "\n",
        "        print(\"BL Portfolio performance:\", portfolio_performance[-1])\n",
        "\n",
        "        # Calculate the equally weighted portfolio performance for the current quarter\n",
        "        equally_weighted_performance.append(np.sum([1/len(tickers) for _ in tickers] * pd.Series(quarter_prices.iloc[-1])))\n",
        "\n",
        "        print(\"Equally weighted performance:\", equally_weighted_performance[-1])\n",
        "\n",
        "        # Calculate the cap-weighted portfolio performance for the current quarter\n",
        "        cap_weighted_performance.append(np.sum([mcaps[ticker] / sum(mcaps.values()) for ticker in tickers] * pd.Series(quarter_prices.iloc[-1])))\n",
        "\n",
        "        print(\"Cap-weighted performance:\", cap_weighted_performance[-1])\n",
        "\n",
        "    # Plot the portfolio performance graph\n",
        "    dates = prices_2016.index[::63]  # Get the dates for every quarter\n",
        "    plt.plot(dates, portfolio_performance, label='Black-Litterman Portfolio')\n",
        "    plt.plot(dates, equally_weighted_performance, label='Equally Weighted Portfolio')\n",
        "    plt.plot(dates, cap_weighted_performance, label='Cap-Weighted Portfolio')\n",
        "    plt.xlabel('Date')\n",
        "    plt.ylabel('Portfolio Performance')\n",
        "    plt\n",
        "\n",
        "    # Call the function with the required arguments\n",
        "quarterly_rebalancing(prices, meta_model_scores, market_prior, S, mcaps)"
      ],
      "metadata": {
        "colab": {
          "base_uri": "https://localhost:8080/",
          "height": 1000
        },
        "id": "3BE9wHisOVn2",
        "outputId": "ddaefb05-10a3-44e3-a548-a105bf857046"
      },
      "execution_count": null,
      "outputs": [
        {
          "output_type": "stream",
          "name": "stdout",
          "text": [
            "Prices length: 13166\n",
            "Meta model scores length: 3122\n",
            "Prices 2016 length: 2171\n",
            "Meta model scores 2016 length: 0\n",
            "Quarter: 0\n",
            "Weights: [0.1, 0.1, 0.1, 0.1, 0.1, 0.1, 0.1, 0.1, 0.1, 0.1]\n",
            "Quarter prices: Ticker\n",
            "AAPL    25.331825\n",
            "AMZN    29.659500\n",
            "BAC     11.279770\n",
            "BHP     15.315759\n",
            "CSCO    21.731375\n",
            "JPM     47.066231\n",
            "MSFT    49.342735\n",
            "ORCL    35.885338\n",
            "PEP     81.744896\n",
            "TSLA    16.466000\n",
            "Name: 2016-04-04 00:00:00, dtype: float64\n",
            "BL Portfolio performance: 32.574093420886996\n",
            "Equally weighted performance: 33.38234281539918\n",
            "Cap-weighted performance: 30.164103736655573\n",
            "Quarter: 63\n",
            "Weights: OrderedDict([('AAPL', 0.12558), ('AMZN', 0.10991), ('BAC', 0.08793), ('BHP', 0.09084), ('CSCO', 0.08787), ('JPM', 0.09134), ('MSFT', 0.10987), ('ORCL', 0.09338), ('PEP', 0.08306), ('TSLA', 0.12021)])\n",
            "Quarter prices: Ticker\n",
            "AAPL    21.992958\n",
            "AMZN    36.284000\n",
            "BAC     10.974557\n",
            "BHP     17.768015\n",
            "CSCO    22.241072\n",
            "JPM     49.083153\n",
            "MSFT    45.860203\n",
            "ORCL    35.966747\n",
            "PEP     83.793686\n",
            "TSLA    14.433333\n",
            "Name: 2016-07-01 00:00:00, dtype: float64\n",
            "BL Portfolio performance: 32.85863746824265\n",
            "Equally weighted performance: 33.839772415161136\n",
            "Cap-weighted performance: 31.17247287530737\n",
            "Quarter: 126\n",
            "Weights: OrderedDict([('AAPL', 0.12558), ('AMZN', 0.10991), ('BAC', 0.08793), ('BHP', 0.09084), ('CSCO', 0.08787), ('JPM', 0.09134), ('MSFT', 0.10987), ('ORCL', 0.09338), ('PEP', 0.08306), ('TSLA', 0.12021)])\n",
            "Quarter prices: Ticker\n",
            "AAPL    26.069176\n",
            "AMZN    41.865501\n",
            "BAC     13.171843\n",
            "BHP     21.704584\n",
            "CSCO    24.719229\n",
            "JPM     53.353699\n",
            "MSFT    51.954884\n",
            "ORCL    34.575958\n",
            "PEP     86.894882\n",
            "TSLA    13.602000\n",
            "Name: 2016-09-30 00:00:00, dtype: float64\n",
            "BL Portfolio performance: 35.840025761442185\n",
            "Equally weighted performance: 36.79117555618287\n",
            "Cap-weighted performance: 34.64133642453096\n",
            "Quarter: 189\n",
            "Weights: OrderedDict([('AAPL', 0.12558), ('AMZN', 0.10991), ('BAC', 0.08793), ('BHP', 0.09084), ('CSCO', 0.08787), ('JPM', 0.09134), ('MSFT', 0.10987), ('ORCL', 0.09338), ('PEP', 0.08306), ('TSLA', 0.12021)])\n",
            "Quarter prices: Ticker\n",
            "AAPL    26.845055\n",
            "AMZN    37.493500\n",
            "BAC     18.669502\n",
            "BHP     22.412411\n",
            "CSCO    23.744917\n",
            "JPM     69.640442\n",
            "MSFT    56.428589\n",
            "ORCL    33.976479\n",
            "PEP     84.205864\n",
            "TSLA    14.246000\n",
            "Name: 2016-12-30 00:00:00, dtype: float64\n",
            "BL Portfolio performance: 37.69627243812561\n",
            "Equally weighted performance: 38.766275787353514\n",
            "Cap-weighted performance: 34.0105229479355\n",
            "Quarter: 252\n",
            "Weights: OrderedDict([('AAPL', 0.12558), ('AMZN', 0.10991), ('BAC', 0.08793), ('BHP', 0.09084), ('CSCO', 0.08787), ('JPM', 0.09134), ('MSFT', 0.10987), ('ORCL', 0.09338), ('PEP', 0.08306), ('TSLA', 0.12021)])\n",
            "Quarter prices: Ticker\n",
            "AAPL    33.451565\n",
            "AMZN    44.575500\n",
            "BAC     19.988958\n",
            "BHP     23.314608\n",
            "CSCO    26.611540\n",
            "JPM     71.023956\n",
            "MSFT    59.886040\n",
            "ORCL    39.574165\n",
            "PEP     90.642914\n",
            "TSLA    19.901333\n",
            "Name: 2017-04-03 00:00:00, dtype: float64\n",
            "BL Portfolio performance: 41.99760739337921\n",
            "Equally weighted performance: 42.89705791473389\n",
            "Cap-weighted performance: 39.75262247542328\n",
            "Quarter: 315\n",
            "Weights: OrderedDict([('AAPL', 0.12558), ('AMZN', 0.10991), ('BAC', 0.08793), ('BHP', 0.09084), ('CSCO', 0.08787), ('JPM', 0.09134), ('MSFT', 0.10987), ('ORCL', 0.09338), ('PEP', 0.08306), ('TSLA', 0.12021)])\n",
            "Quarter prices: Ticker\n",
            "AAPL    33.542885\n",
            "AMZN    47.682999\n",
            "BAC     20.981253\n",
            "BHP     23.148258\n",
            "CSCO    25.044748\n",
            "JPM     76.117058\n",
            "MSFT    62.636635\n",
            "ORCL    43.976608\n",
            "PEP     94.186363\n",
            "TSLA    23.507999\n",
            "Name: 2017-07-03 00:00:00, dtype: float64\n",
            "BL Portfolio performance: 44.19147596374512\n",
            "Equally weighted performance: 45.082480621337886\n",
            "Cap-weighted performance: 41.81929555924248\n",
            "Quarter: 378\n",
            "Weights: OrderedDict([('AAPL', 0.12558), ('AMZN', 0.10991), ('BAC', 0.08793), ('BHP', 0.09084), ('CSCO', 0.08787), ('JPM', 0.09134), ('MSFT', 0.10987), ('ORCL', 0.09338), ('PEP', 0.08306), ('TSLA', 0.12021)])\n",
            "Quarter prices: Ticker\n",
            "AAPL    36.094013\n",
            "AMZN    47.959499\n",
            "BAC     21.891792\n",
            "BHP     26.657270\n",
            "CSCO    27.231323\n",
            "JPM     79.473579\n",
            "MSFT    68.919144\n",
            "ORCL    43.641689\n",
            "PEP     89.652946\n",
            "TSLA    22.768667\n",
            "Name: 2017-10-02 00:00:00, dtype: float64\n",
            "BL Portfolio performance: 45.63334209627151\n",
            "Equally weighted performance: 46.428992462158206\n",
            "Cap-weighted performance: 43.1727058629586\n",
            "Quarter: 441\n",
            "Weights: OrderedDict([('AAPL', 0.12558), ('AMZN', 0.10991), ('BAC', 0.08793), ('BHP', 0.09084), ('CSCO', 0.08787), ('JPM', 0.09134), ('MSFT', 0.10987), ('ORCL', 0.09338), ('PEP', 0.08306), ('TSLA', 0.12021)])\n",
            "Quarter prices: Ticker\n",
            "AAPL    40.568935\n",
            "AMZN    59.450500\n",
            "BAC     25.657835\n",
            "BHP     31.002291\n",
            "CSCO    31.625280\n",
            "JPM     89.109077\n",
            "MSFT    79.792923\n",
            "ORCL    41.865551\n",
            "PEP     97.670982\n",
            "TSLA    21.368668\n",
            "Name: 2018-01-02 00:00:00, dtype: float64\n",
            "BL Portfolio performance: 50.97686238517762\n",
            "Equally weighted performance: 51.811204338073736\n",
            "Cap-weighted performance: 49.15454300144868\n",
            "Quarter: 504\n",
            "Weights: OrderedDict([('AAPL', 0.12558), ('AMZN', 0.10991), ('BAC', 0.08793), ('BHP', 0.09084), ('CSCO', 0.08787), ('JPM', 0.09134), ('MSFT', 0.10987), ('ORCL', 0.09338), ('PEP', 0.08306), ('TSLA', 0.12021)])\n",
            "Quarter prices: Ticker\n",
            "AAPL    40.580627\n",
            "AMZN    70.528503\n",
            "BAC     25.736889\n",
            "BHP     29.651289\n",
            "CSCO    34.051285\n",
            "JPM     92.095764\n",
            "MSFT    86.118538\n",
            "ORCL    41.019093\n",
            "PEP     91.825508\n",
            "TSLA    19.129333\n",
            "Name: 2018-04-04 00:00:00, dtype: float64\n",
            "BL Portfolio performance: 52.42735473529815\n",
            "Equally weighted performance: 53.073682975769046\n",
            "Cap-weighted performance: 52.854226560827165\n",
            "Quarter: 567\n",
            "Weights: OrderedDict([('AAPL', 0.12558), ('AMZN', 0.10991), ('BAC', 0.08793), ('BHP', 0.09084), ('CSCO', 0.08787), ('JPM', 0.09134), ('MSFT', 0.10987), ('ORCL', 0.09338), ('PEP', 0.08306), ('TSLA', 0.12021)])\n",
            "Quarter prices: Ticker\n",
            "AAPL    43.659279\n",
            "AMZN    84.697998\n",
            "BAC     24.025835\n",
            "BHP     32.558929\n",
            "CSCO    35.266220\n",
            "JPM     86.408073\n",
            "MSFT    92.786888\n",
            "ORCL    40.473946\n",
            "PEP     91.509338\n",
            "TSLA    20.724001\n",
            "Name: 2018-07-03 00:00:00, dtype: float64\n",
            "BL Portfolio performance: 54.91944045490264\n",
            "Equally weighted performance: 55.21105079650879\n",
            "Cap-weighted performance: 58.52668811549369\n",
            "Quarter: 630\n",
            "Weights: OrderedDict([('AAPL', 0.12558), ('AMZN', 0.10991), ('BAC', 0.08793), ('BHP', 0.09084), ('CSCO', 0.08787), ('JPM', 0.09134), ('MSFT', 0.10987), ('ORCL', 0.09338), ('PEP', 0.08306), ('TSLA', 0.12021)])\n",
            "Quarter prices: Ticker\n",
            "AAPL     54.617805\n",
            "AMZN     98.565498\n",
            "BAC      25.706257\n",
            "BHP      34.667923\n",
            "CSCO     40.821865\n",
            "JPM      95.564552\n",
            "MSFT    108.283958\n",
            "ORCL     45.639088\n",
            "PEP      92.198418\n",
            "TSLA     20.068001\n",
            "Name: 2018-10-02 00:00:00, dtype: float64\n",
            "BL Portfolio performance: 61.647018184890754\n",
            "Equally weighted performance: 61.613336563110344\n",
            "Cap-weighted performance: 68.37279706530005\n",
            "Quarter: 693\n",
            "Weights: OrderedDict([('AAPL', 0.12558), ('AMZN', 0.10991), ('BAC', 0.08793), ('BHP', 0.09084), ('CSCO', 0.08787), ('JPM', 0.09134), ('MSFT', 0.10987), ('ORCL', 0.09338), ('PEP', 0.08306), ('TSLA', 0.12021)])\n",
            "Quarter prices: Ticker\n",
            "AAPL    33.989902\n",
            "AMZN    75.014000\n",
            "BAC     21.462942\n",
            "BHP     31.865366\n",
            "CSCO    34.706337\n",
            "JPM     82.663452\n",
            "MSFT    91.988014\n",
            "ORCL    40.851028\n",
            "PEP     92.537308\n",
            "TSLA    20.024000\n",
            "Name: 2019-01-03 00:00:00, dtype: float64\n",
            "BL Portfolio performance: 51.909878584175104\n",
            "Equally weighted performance: 52.51023502349854\n",
            "Cap-weighted performance: 52.594270011736725\n",
            "Quarter: 756\n",
            "Weights: OrderedDict([('AAPL', 0.12558), ('AMZN', 0.10991), ('BAC', 0.08793), ('BHP', 0.09084), ('CSCO', 0.08787), ('JPM', 0.09134), ('MSFT', 0.10987), ('ORCL', 0.09338), ('PEP', 0.08306), ('TSLA', 0.12021)])\n",
            "Quarter prices: Ticker\n",
            "AAPL     46.979469\n",
            "AMZN     90.943001\n",
            "BAC      25.604197\n",
            "BHP      41.094608\n",
            "CSCO     46.891262\n",
            "JPM      90.543968\n",
            "MSFT    113.209259\n",
            "ORCL     49.292255\n",
            "PEP     104.670769\n",
            "TSLA     17.851999\n",
            "Name: 2019-04-04 00:00:00, dtype: float64\n",
            "BL Portfolio performance: 62.15141442962646\n",
            "Equally weighted performance: 62.70807876586914\n",
            "Cap-weighted performance: 65.39656223626017\n",
            "Quarter: 819\n",
            "Weights: OrderedDict([('AAPL', 0.12558), ('AMZN', 0.10991), ('BAC', 0.08793), ('BHP', 0.09084), ('CSCO', 0.08787), ('JPM', 0.09134), ('MSFT', 0.10987), ('ORCL', 0.09338), ('PEP', 0.08306), ('TSLA', 0.12021)])\n",
            "Quarter prices: Ticker\n",
            "AAPL     49.218479\n",
            "AMZN     97.145500\n",
            "BAC      25.839691\n",
            "BHP      41.409145\n",
            "CSCO     48.436615\n",
            "JPM      98.035080\n",
            "MSFT    130.478333\n",
            "ORCL     54.536057\n",
            "PEP     115.462646\n",
            "TSLA     15.540000\n",
            "Name: 2019-07-05 00:00:00, dtype: float64\n",
            "BL Portfolio performance: 66.98908107195854\n",
            "Equally weighted performance: 67.61015462875366\n",
            "Cap-weighted performance: 70.31109004010327\n",
            "Quarter: 882\n",
            "Weights: OrderedDict([('AAPL', 0.12558), ('AMZN', 0.10991), ('BAC', 0.08793), ('BHP', 0.09084), ('CSCO', 0.08787), ('JPM', 0.09134), ('MSFT', 0.10987), ('ORCL', 0.09338), ('PEP', 0.08306), ('TSLA', 0.12021)])\n",
            "Quarter prices: Ticker\n",
            "AAPL     53.418785\n",
            "AMZN     86.221001\n",
            "BAC      24.721054\n",
            "BHP      36.134224\n",
            "CSCO     40.577591\n",
            "JPM      97.688454\n",
            "MSFT    130.167801\n",
            "ORCL     49.750385\n",
            "PEP     120.551895\n",
            "TSLA     15.535333\n",
            "Name: 2019-10-03 00:00:00, dtype: float64\n",
            "BL Portfolio performance: 64.95722269330025\n",
            "Equally weighted performance: 65.47665224075318\n",
            "Cap-weighted performance: 66.73650502247618\n",
            "Quarter: 945\n",
            "Weights: OrderedDict([('AAPL', 0.12558), ('AMZN', 0.10991), ('BAC', 0.08793), ('BHP', 0.09084), ('CSCO', 0.08787), ('JPM', 0.09134), ('MSFT', 0.10987), ('ORCL', 0.09338), ('PEP', 0.08306), ('TSLA', 0.12021)])\n",
            "Quarter prices: Ticker\n",
            "AAPL     72.167603\n",
            "AMZN     93.748497\n",
            "BAC      31.192928\n",
            "BHP      41.176552\n",
            "CSCO     41.370979\n",
            "JPM     121.231651\n",
            "MSFT    152.021378\n",
            "ORCL     49.879498\n",
            "PEP     119.372017\n",
            "TSLA     29.534000\n",
            "Name: 2020-01-03 00:00:00, dtype: float64\n",
            "BL Portfolio performance: 75.384202113266\n",
            "Equally weighted performance: 75.16951026916504\n",
            "Cap-weighted performance: 76.82254919125847\n",
            "Quarter: 1008\n",
            "Weights: OrderedDict([('AAPL', 0.12558), ('AMZN', 0.10991), ('BAC', 0.08793), ('BHP', 0.09084), ('CSCO', 0.08787), ('JPM', 0.09134), ('MSFT', 0.10987), ('ORCL', 0.09338), ('PEP', 0.08306), ('TSLA', 0.12021)])\n",
            "Quarter prices: Ticker\n",
            "AAPL     58.714085\n",
            "AMZN     95.329498\n",
            "BAC      18.016638\n",
            "BHP      28.426847\n",
            "CSCO     34.248837\n",
            "JPM      74.421013\n",
            "MSFT    147.833374\n",
            "ORCL     46.038219\n",
            "PEP     110.395798\n",
            "TSLA     32.000668\n",
            "Name: 2020-04-03 00:00:00, dtype: float64\n",
            "BL Portfolio performance: 65.38231521512985\n",
            "Equally weighted performance: 64.5424976348877\n",
            "Cap-weighted performance: 70.67004113598007\n",
            "Quarter: 1071\n",
            "Weights: OrderedDict([('AAPL', 0.12558), ('AMZN', 0.10991), ('BAC', 0.08793), ('BHP', 0.09084), ('CSCO', 0.08787), ('JPM', 0.09134), ('MSFT', 0.10987), ('ORCL', 0.09338), ('PEP', 0.08306), ('TSLA', 0.12021)])\n",
            "Quarter prices: Ticker\n",
            "AAPL     91.171371\n",
            "AMZN    152.852005\n",
            "BAC      21.430185\n",
            "BHP      39.179173\n",
            "CSCO     41.022903\n",
            "JPM      84.936234\n",
            "MSFT    203.050385\n",
            "ORCL     52.998825\n",
            "PEP     119.030273\n",
            "TSLA     91.438667\n",
            "Name: 2020-07-06 00:00:00, dtype: float64\n",
            "BL Portfolio performance: 93.19208775987623\n",
            "Equally weighted performance: 89.71100215911866\n",
            "Cap-weighted performance: 104.917742782445\n",
            "Quarter: 1134\n",
            "Weights: OrderedDict([('AAPL', 0.12558), ('AMZN', 0.10991), ('BAC', 0.08793), ('BHP', 0.09084), ('CSCO', 0.08787), ('JPM', 0.09134), ('MSFT', 0.10987), ('ORCL', 0.09338), ('PEP', 0.08306), ('TSLA', 0.12021)])\n",
            "Quarter prices: Ticker\n",
            "AAPL    110.448189\n",
            "AMZN    156.250000\n",
            "BAC      22.081102\n",
            "BHP      40.774918\n",
            "CSCO     34.132423\n",
            "JPM      87.520081\n",
            "MSFT    199.184433\n",
            "ORCL     55.319828\n",
            "PEP     124.167191\n",
            "TSLA    138.363327\n",
            "Name: 2020-10-02 00:00:00, dtype: float64\n",
            "BL Portfolio performance: 101.67854767961502\n",
            "Equally weighted performance: 96.8241491317749\n",
            "Cap-weighted performance: 112.42273254551546\n",
            "Quarter: 1197\n",
            "Weights: OrderedDict([('AAPL', 0.12558), ('AMZN', 0.10991), ('BAC', 0.08793), ('BHP', 0.09084), ('CSCO', 0.08787), ('JPM', 0.09134), ('MSFT', 0.10987), ('ORCL', 0.09338), ('PEP', 0.08306), ('TSLA', 0.12021)])\n",
            "Quarter prices: Ticker\n",
            "AAPL    126.683449\n",
            "AMZN    159.331497\n",
            "BAC      27.560034\n",
            "BHP      53.365540\n",
            "CSCO     39.525223\n",
            "JPM     113.580315\n",
            "MSFT    210.844254\n",
            "ORCL     60.189007\n",
            "PEP     130.676651\n",
            "TSLA    243.256668\n",
            "Name: 2021-01-04 00:00:00, dtype: float64\n",
            "BL Portfolio performance: 123.42141329999924\n",
            "Equally weighted performance: 116.50126361846925\n",
            "Cap-weighted performance: 123.12810557749997\n",
            "Quarter: 1260\n",
            "Weights: OrderedDict([('AAPL', 0.12558), ('AMZN', 0.10991), ('BAC', 0.08793), ('BHP', 0.09084), ('CSCO', 0.08787), ('JPM', 0.09134), ('MSFT', 0.10987), ('ORCL', 0.09338), ('PEP', 0.08306), ('TSLA', 0.12021)])\n",
            "Quarter prices: Ticker\n",
            "AAPL    123.735481\n",
            "AMZN    161.190994\n",
            "BAC      36.606422\n",
            "BHP      55.362289\n",
            "CSCO     47.116478\n",
            "JPM     139.454117\n",
            "MSFT    240.618439\n",
            "ORCL     70.399170\n",
            "PEP     131.172287\n",
            "TSLA    230.539993\n",
            "Name: 2021-04-06 00:00:00, dtype: float64\n",
            "BL Portfolio performance: 129.999986060791\n",
            "Equally weighted performance: 123.6195671081543\n",
            "Cap-weighted performance: 127.36861493556232\n",
            "Quarter: 1323\n",
            "Weights: OrderedDict([('AAPL', 0.12558), ('AMZN', 0.10991), ('BAC', 0.08793), ('BHP', 0.09084), ('CSCO', 0.08787), ('JPM', 0.09134), ('MSFT', 0.10987), ('ORCL', 0.09338), ('PEP', 0.08306), ('TSLA', 0.12021)])\n",
            "Quarter prices: Ticker\n",
            "AAPL    139.472000\n",
            "AMZN    183.787003\n",
            "BAC      37.112469\n",
            "BHP      57.271881\n",
            "CSCO     48.311253\n",
            "JPM     141.057693\n",
            "MSFT    270.170197\n",
            "ORCL     79.080086\n",
            "PEP     137.152054\n",
            "TSLA    219.860001\n",
            "Name: 2021-07-06 00:00:00, dtype: float64\n",
            "BL Portfolio performance: 138.1994379346466\n",
            "Equally weighted performance: 131.32746353149417\n",
            "Cap-weighted performance: 142.29026764343382\n",
            "Quarter: 1386\n",
            "Weights: OrderedDict([('AAPL', 0.12558), ('AMZN', 0.10991), ('BAC', 0.08793), ('BHP', 0.09084), ('CSCO', 0.08787), ('JPM', 0.09134), ('MSFT', 0.10987), ('ORCL', 0.09338), ('PEP', 0.08306), ('TSLA', 0.12021)])\n",
            "Quarter prices: Ticker\n",
            "AAPL    136.848404\n",
            "AMZN    159.488998\n",
            "BAC      40.346813\n",
            "BHP      42.280403\n",
            "CSCO     49.785172\n",
            "JPM     153.507462\n",
            "MSFT    276.000519\n",
            "ORCL     85.275955\n",
            "PEP     139.082962\n",
            "TSLA    260.510010\n",
            "Name: 2021-10-04 00:00:00, dtype: float64\n",
            "BL Portfolio performance: 141.6546848429489\n",
            "Equally weighted performance: 134.31266975402832\n",
            "Cap-weighted performance: 136.250828225729\n",
            "Quarter: 1449\n",
            "Weights: OrderedDict([('AAPL', 0.12558), ('AMZN', 0.10991), ('BAC', 0.08793), ('BHP', 0.09084), ('CSCO', 0.08787), ('JPM', 0.09134), ('MSFT', 0.10987), ('ORCL', 0.09338), ('PEP', 0.08306), ('TSLA', 0.12021)])\n",
            "Quarter prices: Ticker\n",
            "AAPL    179.273590\n",
            "AMZN    170.404495\n",
            "BAC      43.197601\n",
            "BHP      47.811085\n",
            "CSCO     57.983242\n",
            "JPM     149.576111\n",
            "MSFT    326.940887\n",
            "ORCL     84.268784\n",
            "PEP     161.259277\n",
            "TSLA    399.926666\n",
            "Name: 2022-01-03 00:00:00, dtype: float64\n",
            "BL Portfolio performance: 173.4005234202957\n",
            "Equally weighted performance: 162.06417388916014\n",
            "Cap-weighted performance: 158.90123258002274\n",
            "Quarter: 1512\n",
            "Weights: OrderedDict([('AAPL', 0.12558), ('AMZN', 0.10991), ('BAC', 0.08793), ('BHP', 0.09084), ('CSCO', 0.08787), ('JPM', 0.09134), ('MSFT', 0.10987), ('ORCL', 0.09338), ('PEP', 0.08306), ('TSLA', 0.12021)])\n",
            "Quarter prices: Ticker\n",
            "AAPL    175.981216\n",
            "AMZN    168.346497\n",
            "BAC      38.379860\n",
            "BHP      62.422230\n",
            "CSCO     51.592991\n",
            "JPM     126.473404\n",
            "MSFT    308.258331\n",
            "ORCL     80.896423\n",
            "PEP     158.885437\n",
            "TSLA    381.816681\n",
            "Name: 2022-04-04 00:00:00, dtype: float64\n",
            "BL Portfolio performance: 166.25107633853912\n",
            "Equally weighted performance: 155.30530700683596\n",
            "Cap-weighted performance: 154.71032569720575\n",
            "Quarter: 1575\n",
            "Weights: OrderedDict([('AAPL', 0.12558), ('AMZN', 0.10991), ('BAC', 0.08793), ('BHP', 0.09084), ('CSCO', 0.08787), ('JPM', 0.09134), ('MSFT', 0.10987), ('ORCL', 0.09338), ('PEP', 0.08306), ('TSLA', 0.12021)])\n",
            "Quarter prices: Ticker\n",
            "AAPL    141.157745\n",
            "AMZN    114.330002\n",
            "BAC      29.288664\n",
            "BHP      46.632450\n",
            "CSCO     40.049164\n",
            "JPM     105.820786\n",
            "MSFT    261.144196\n",
            "ORCL     69.224640\n",
            "PEP     161.294510\n",
            "TSLA    231.733337\n",
            "Name: 2022-07-06 00:00:00, dtype: float64\n",
            "BL Portfolio performance: 126.69873083845138\n",
            "Equally weighted performance: 120.06754932403564\n",
            "Cap-weighted performance: 118.11718604216375\n",
            "Quarter: 1638\n",
            "Weights: OrderedDict([('AAPL', 0.12558), ('AMZN', 0.10991), ('BAC', 0.08793), ('BHP', 0.09084), ('CSCO', 0.08787), ('JPM', 0.09134), ('MSFT', 0.10987), ('ORCL', 0.09338), ('PEP', 0.08306), ('TSLA', 0.12021)])\n",
            "Quarter prices: Ticker\n",
            "AAPL    144.498962\n",
            "AMZN    121.089996\n",
            "BAC      30.813934\n",
            "BHP      50.501003\n",
            "CSCO     39.597412\n",
            "JPM     106.653038\n",
            "MSFT    244.662186\n",
            "ORCL     63.741333\n",
            "PEP     158.963486\n",
            "TSLA    249.440002\n",
            "Name: 2022-10-04 00:00:00, dtype: float64\n",
            "BL Portfolio performance: 127.995164506073\n",
            "Equally weighted performance: 120.99613533020019\n",
            "Cap-weighted performance: 119.66485153631248\n",
            "Quarter: 1701\n",
            "Weights: OrderedDict([('AAPL', 0.12558), ('AMZN', 0.10991), ('BAC', 0.08793), ('BHP', 0.09084), ('CSCO', 0.08787), ('JPM', 0.09134), ('MSFT', 0.10987), ('ORCL', 0.09338), ('PEP', 0.08306), ('TSLA', 0.12021)])\n",
            "Quarter prices: Ticker\n",
            "AAPL    125.182610\n",
            "AMZN     85.139999\n",
            "BAC      32.678749\n",
            "BHP      59.551907\n",
            "CSCO     45.382607\n",
            "JPM     130.136383\n",
            "MSFT    225.852097\n",
            "ORCL     82.395325\n",
            "PEP     171.307251\n",
            "TSLA    113.639999\n",
            "Name: 2023-01-04 00:00:00, dtype: float64\n",
            "BL Portfolio performance: 109.63362376724244\n",
            "Equally weighted performance: 107.12669258117677\n",
            "Cap-weighted performance: 103.14907213206882\n",
            "Quarter: 1764\n",
            "Weights: OrderedDict([('AAPL', 0.12558), ('AMZN', 0.10991), ('BAC', 0.08793), ('BHP', 0.09084), ('CSCO', 0.08787), ('JPM', 0.09134), ('MSFT', 0.10987), ('ORCL', 0.09338), ('PEP', 0.08306), ('TSLA', 0.12021)])\n",
            "Quarter prices: Ticker\n",
            "AAPL    162.481827\n",
            "AMZN    101.099998\n",
            "BAC      26.628553\n",
            "BHP      57.531105\n",
            "CSCO     49.829483\n",
            "JPM     123.630028\n",
            "MSFT    281.011017\n",
            "ORCL     92.895470\n",
            "PEP     176.965149\n",
            "TSLA    185.520004\n",
            "Name: 2023-04-05 00:00:00, dtype: float64\n",
            "BL Portfolio performance: 131.30417069341658\n",
            "Equally weighted performance: 125.75926342010499\n",
            "Cap-weighted performance: 125.61612196139214\n",
            "Quarter: 1827\n",
            "Weights: OrderedDict([('AAPL', 0.12558), ('AMZN', 0.10991), ('BAC', 0.08793), ('BHP', 0.09084), ('CSCO', 0.08787), ('JPM', 0.09134), ('MSFT', 0.10987), ('ORCL', 0.09338), ('PEP', 0.08306), ('TSLA', 0.12021)])\n",
            "Quarter prices: Ticker\n",
            "AAPL    189.453400\n",
            "AMZN    129.779999\n",
            "BAC      27.705318\n",
            "BHP      55.054916\n",
            "CSCO     49.403175\n",
            "JPM     140.798599\n",
            "MSFT    334.000519\n",
            "ORCL    112.670822\n",
            "PEP     177.657959\n",
            "TSLA    274.429993\n",
            "Name: 2023-07-07 00:00:00, dtype: float64\n",
            "BL Portfolio performance: 157.65793378864288\n",
            "Equally weighted performance: 149.09547004699706\n",
            "Cap-weighted performance: 151.07919809182818\n",
            "Quarter: 1890\n",
            "Weights: OrderedDict([('AAPL', 0.12558), ('AMZN', 0.10991), ('BAC', 0.08793), ('BHP', 0.09084), ('CSCO', 0.08787), ('JPM', 0.09134), ('MSFT', 0.10987), ('ORCL', 0.09338), ('PEP', 0.08306), ('TSLA', 0.12021)])\n",
            "Quarter prices: Ticker\n",
            "AAPL    174.019516\n",
            "AMZN    125.959999\n",
            "BAC      25.517603\n",
            "BHP      53.969429\n",
            "CSCO     51.789799\n",
            "JPM     140.422501\n",
            "MSFT    316.980682\n",
            "ORCL    106.890541\n",
            "PEP     156.451462\n",
            "TSLA    260.049988\n",
            "Name: 2023-10-05 00:00:00, dtype: float64\n",
            "BL Portfolio performance: 149.28451464200973\n",
            "Equally weighted performance: 141.2051519393921\n",
            "Cap-weighted performance: 142.75006988548304\n",
            "Quarter: 1953\n",
            "Weights: OrderedDict([('AAPL', 0.12558), ('AMZN', 0.10991), ('BAC', 0.08793), ('BHP', 0.09084), ('CSCO', 0.08787), ('JPM', 0.09134), ('MSFT', 0.10987), ('ORCL', 0.09338), ('PEP', 0.08306), ('TSLA', 0.12021)])\n",
            "Quarter prices: Ticker\n",
            "AAPL    180.495071\n",
            "AMZN    145.240005\n",
            "BAC      33.982475\n",
            "BHP      64.396553\n",
            "CSCO     49.262047\n",
            "JPM     170.327164\n",
            "MSFT    365.751038\n",
            "ORCL    101.717102\n",
            "PEP     166.348877\n",
            "TSLA    237.490005\n",
            "Name: 2024-01-05 00:00:00, dtype: float64\n",
            "BL Portfolio performance: 159.40312195709225\n",
            "Equally weighted performance: 151.50103378295898\n",
            "Cap-weighted performance: 153.37097516289782\n",
            "Quarter: 2016\n",
            "Weights: OrderedDict([('AAPL', 0.12558), ('AMZN', 0.10991), ('BAC', 0.08793), ('BHP', 0.09084), ('CSCO', 0.08787), ('JPM', 0.09134), ('MSFT', 0.10987), ('ORCL', 0.09338), ('PEP', 0.08306), ('TSLA', 0.12021)])\n",
            "Quarter prices: Ticker\n",
            "AAPL    168.027344\n",
            "AMZN    185.190002\n",
            "BAC      37.273300\n",
            "BHP      59.689999\n",
            "CSCO     47.830235\n",
            "JPM     197.386261\n",
            "MSFT    423.062988\n",
            "ORCL    123.601021\n",
            "PEP     168.253311\n",
            "TSLA    172.979996\n",
            "Name: 2024-04-08 00:00:00, dtype: float64\n",
            "BL Portfolio performance: 165.17973069927217\n",
            "Equally weighted performance: 158.32944564819334\n",
            "Cap-weighted performance: 168.55774865329855\n",
            "Quarter: 2079\n",
            "Weights: OrderedDict([('AAPL', 0.12558), ('AMZN', 0.10991), ('BAC', 0.08793), ('BHP', 0.09084), ('CSCO', 0.08787), ('JPM', 0.09134), ('MSFT', 0.10987), ('ORCL', 0.09338), ('PEP', 0.08306), ('TSLA', 0.12021)])\n",
            "Quarter prices: Ticker\n",
            "AAPL    228.415604\n",
            "AMZN    199.339996\n",
            "BAC      41.419998\n",
            "BHP      58.360001\n",
            "CSCO     45.799999\n",
            "JPM     207.630005\n",
            "MSFT    458.713226\n",
            "ORCL    140.283905\n",
            "PEP     161.899994\n",
            "TSLA    262.329987\n",
            "Name: 2024-07-09 00:00:00, dtype: float64\n",
            "BL Portfolio performance: 191.00737838184355\n",
            "Equally weighted performance: 180.41927146911624\n",
            "Cap-weighted performance: 197.18966449421993\n",
            "Quarter: 2142\n",
            "Weights: OrderedDict([('AAPL', 0.12558), ('AMZN', 0.10991), ('BAC', 0.08793), ('BHP', 0.09084), ('CSCO', 0.08787), ('JPM', 0.09134), ('MSFT', 0.10987), ('ORCL', 0.09338), ('PEP', 0.08306), ('TSLA', 0.12021)])\n",
            "Quarter prices: Ticker\n",
            "AAPL    225.889999\n",
            "AMZN    178.220001\n",
            "BAC      39.669998\n",
            "BHP      53.959999\n",
            "CSCO     49.980000\n",
            "JPM     215.449997\n",
            "MSFT    421.529999\n",
            "ORCL    137.919998\n",
            "PEP     173.820007\n",
            "TSLA    222.720001\n",
            "Name: 2024-08-19 00:00:00, dtype: float64\n",
            "BL Portfolio performance: 180.81941254436492\n",
            "Equally weighted performance: 171.91599998474123\n",
            "Cap-weighted performance: 186.60217079753963\n"
          ]
        },
        {
          "output_type": "display_data",
          "data": {
            "text/plain": [
              "<Figure size 640x480 with 1 Axes>"
            ],
            "image/png": "[encoded data removed]"
          },
          "metadata": {}
        }
      ]
    },
    {
      "cell_type": "code",
      "source": [
        "def quarterly_rebalancing(prices, meta_model_scores, tickers):\n",
        "    print(\"Prices length:\", len(prices))\n",
        "    print(\"Meta model scores length:\", len(meta_model_scores))\n",
        "\n",
        "    # Filter the data to only consider the data from 2016 onwards\n",
        "    prices_2016 = prices[prices.index >= '2016-01-01']\n",
        "    meta_model_scores.index = pd.to_datetime(meta_model_scores.index)\n",
        "    meta_model_scores_2016 = meta_model_scores[meta_model_scores.index >= '2016-01-01']\n",
        "\n",
        "    print(\"Prices 2016 length:\", len(prices_2016))\n",
        "    print(\"Meta model scores 2016 length:\", len(meta_model_scores_2016))\n",
        "\n",
        "    # Initialize the portfolio weights\n",
        "    weights = [1/len(tickers) for _ in tickers]\n",
        "\n",
        "    # Initialize the portfolio performance\n",
        "    portfolio_performance = []\n",
        "\n",
        "    # Initialize the equally weighted portfolio performance\n",
        "    equally_weighted_performance = []\n",
        "\n",
        "    # Initialize the cap-weighted portfolio performance\n",
        "    cap_weighted_performance = []\n",
        "\n",
        "    # Iterate over the quarters\n",
        "    for quarter in range(0, len(prices_2016), 63):\n",
        "        print(\"Quarter:\", quarter)\n",
        "\n",
        "        # Get the prices for the current quarter\n",
        "        quarter_prices = prices_2016.iloc[quarter:quarter+63]\n",
        "\n",
        "        # Get the meta model scores for the current quarter\n",
        "        quarter_meta_model_scores = meta_model_scores_2016.iloc[quarter:quarter+63]\n",
        "\n",
        "        # Update market_prior, S, and mcaps for the current quarter\n",
        "        market_prices = yf.download(\"SPY\", start=quarter_prices.index[0], end=quarter_prices.index[-1])[\"Adj Close\"]\n",
        "        delta = black_litterman.market_implied_risk_aversion(market_prices)\n",
        "        S = risk_models.CovarianceShrinkage(quarter_prices).ledoit_wolf()\n",
        "        mcaps = {}\n",
        "        for t in tickers:\n",
        "            stock = yf.Ticker(t)\n",
        "            mcaps[t] = stock.info[\"marketCap\"]\n",
        "        market_prior = black_litterman.market_implied_prior_returns(mcaps, delta, S)\n",
        "\n",
        "        # Map meta model scores to expected returns using a linear transformation for each stock\n",
        "        absolute_return_views = {}\n",
        "        for stock_code in tickers:\n",
        "            stock_data = stock_price_data[stock_price_data['Stock'] == stock_code]\n",
        "            stock_returns = stock_data['Close'].pct_change().mean()\n",
        "            stock_meta_model_scores = quarter_meta_model_scores[quarter_meta_model_scores['Stock'] == stock_code]['Meta Model Score']\n",
        "\n",
        "            if stock_meta_model_scores.empty:\n",
        "                # If there is no data for meta_model_scores, set expected return to mean return\n",
        "                expected_return = stock_returns.mean() * 100\n",
        "            else:\n",
        "                min_meta_model_score = stock_meta_model_scores.min()\n",
        "                max_meta_model_score = stock_meta_model_scores.max()\n",
        "                min_stock_return = stock_returns.min()\n",
        "                max_stock_return = stock_returns.max()\n",
        "\n",
        "                # Apply linear transformation\n",
        "                expected_return = (stock_meta_model_scores.mean() - min_meta_model_score) / (max_meta_model_score - min_meta_model_score) * (max_stock_return - min_stock_return) + min_stock_return\n",
        "                expected_return = expected_return * 100\n",
        "\n",
        "            absolute_return_views[stock_code] = expected_return\n",
        "\n",
        "        # Convert absolute return views to a pandas Series\n",
        "        absolute_return_views = pd.Series(absolute_return_views)\n",
        "\n",
        "        # Calculate posterior weights using market_prior, S, and mcaps\n",
        "        bl = BlackLittermanModel(S, pi=market_prior, absolute_views=absolute_return_views)\n",
        "        ret_bl = bl.bl_returns()\n",
        "        S_bl = bl.bl_cov()\n",
        "        ef = EfficientFrontier(ret_bl, S_bl)\n",
        "        ef.add_objective(objective_functions.L2_reg)\n",
        "        ef.max_quadratic_utility()\n",
        "        quarter_weights = ef.clean_weights()\n",
        "\n",
        "        # Calculate the portfolio performance for the current quarter\n",
        "        portfolio_performance.append(np.sum(pd.Series(quarter_weights) * pd.Series(quarter_prices.iloc[-1])))\n",
        "\n",
        "        print(\"BL Portfolio performance:\", portfolio_performance[-1])\n",
        "\n",
        "        # Calculate the equally weighted portfolio performance for the current quarter\n",
        "        equally_weighted_performance.append(np.sum([1/len(tickers) for _ in tickers] * pd.Series(quarter_prices.iloc[-1])))\n",
        "\n",
        "        print(\"Equally weighted performance:\", equally_weighted_performance[-1])\n",
        "\n",
        "        # Calculate the cap-weighted portfolio performance for the current quarter\n",
        "        cap_weighted_performance.append(np.sum([mcaps[ticker] / sum(mcaps.values()) for ticker in tickers] * pd.Series(quarter_prices.iloc[-1])))\n",
        "\n",
        "        print(\"Cap-weighted performance:\", cap_weighted_performance[-1])\n",
        "\n",
        "    # Plot the portfolio performance graph\n",
        "    dates = prices_2016.index[::63]  # Get the dates for every quarter\n",
        "    plt.plot(dates, portfolio_performance, label='Black-Litterman Portfolio')\n",
        "    plt.plot(dates, equally_weighted_performance, label='Equally Weighted Portfolio')\n",
        "    plt.plot(dates, cap_weighted_performance, label='Cap-Weighted Portfolio')\n",
        "    plt.xlabel('Date')\n",
        "    plt.ylabel('Portfolio Performance')\n",
        "    plt\n",
        "\n",
        "    # Call the function with the required arguments\n",
        "quarterly_rebalancing(prices, meta_model_scores, tickers)"
      ],
      "metadata": {
        "colab": {
          "base_uri": "https://localhost:8080/",
          "height": 1000
        },
        "id": "E5Yo6sVzRlfK",
        "outputId": "d9ec4a73-b85b-44b3-9fdb-f019c4d518b3"
      },
      "execution_count": null,
      "outputs": [
        {
          "output_type": "stream",
          "name": "stdout",
          "text": [
            "Prices length: 13166\n",
            "Meta model scores length: 3122\n",
            "Prices 2016 length: 2171\n",
            "Meta model scores 2016 length: 0\n",
            "Quarter: 0\n"
          ]
        },
        {
          "output_type": "stream",
          "name": "stderr",
          "text": [
            "[*********************100%%**********************]  1 of 1 completed\n",
            "[*********************100%%**********************]  1 of 1 completed"
          ]
        },
        {
          "output_type": "stream",
          "name": "stdout",
          "text": [
            "BL Portfolio performance: 32.93022572095871\n",
            "Equally weighted performance: 33.38234281539918\n",
            "Cap-weighted performance: 30.164103736655573\n",
            "Quarter: 63\n"
          ]
        },
        {
          "output_type": "stream",
          "name": "stderr",
          "text": [
            "\n",
            "[*********************100%%**********************]  1 of 1 completed"
          ]
        },
        {
          "output_type": "stream",
          "name": "stdout",
          "text": [
            "BL Portfolio performance: 32.81576285060883\n",
            "Equally weighted performance: 33.839772415161136\n",
            "Cap-weighted performance: 31.17247287530737\n",
            "Quarter: 126\n"
          ]
        },
        {
          "output_type": "stream",
          "name": "stderr",
          "text": [
            "\n"
          ]
        },
        {
          "output_type": "stream",
          "name": "stdout",
          "text": [
            "BL Portfolio performance: 35.093761446809765\n",
            "Equally weighted performance: 36.79117555618287\n",
            "Cap-weighted performance: 34.64133642453096\n",
            "Quarter: 189\n"
          ]
        },
        {
          "output_type": "stream",
          "name": "stderr",
          "text": [
            "[*********************100%%**********************]  1 of 1 completed\n",
            "[*********************100%%**********************]  1 of 1 completed"
          ]
        },
        {
          "output_type": "stream",
          "name": "stdout",
          "text": [
            "BL Portfolio performance: 37.311603157062535\n",
            "Equally weighted performance: 38.766275787353514\n",
            "Cap-weighted performance: 34.0105229479355\n",
            "Quarter: 252\n"
          ]
        },
        {
          "output_type": "stream",
          "name": "stderr",
          "text": [
            "\n",
            "[*********************100%%**********************]  1 of 1 completed"
          ]
        },
        {
          "output_type": "stream",
          "name": "stdout",
          "text": [
            "BL Portfolio performance: 39.67708238954544\n",
            "Equally weighted performance: 42.89705791473389\n",
            "Cap-weighted performance: 39.75262247542328\n",
            "Quarter: 315\n"
          ]
        },
        {
          "output_type": "stream",
          "name": "stderr",
          "text": [
            "\n",
            "[*********************100%%**********************]  1 of 1 completed"
          ]
        },
        {
          "output_type": "stream",
          "name": "stdout",
          "text": [
            "BL Portfolio performance: 42.87150491600037\n",
            "Equally weighted performance: 45.082480621337886\n",
            "Cap-weighted performance: 41.81929555924248\n",
            "Quarter: 378\n"
          ]
        },
        {
          "output_type": "stream",
          "name": "stderr",
          "text": [
            "\n",
            "[*********************100%%**********************]  1 of 1 completed"
          ]
        },
        {
          "output_type": "stream",
          "name": "stdout",
          "text": [
            "BL Portfolio performance: 43.19688000001908\n",
            "Equally weighted performance: 46.428992462158206\n",
            "Cap-weighted performance: 43.1727058629586\n",
            "Quarter: 441\n"
          ]
        },
        {
          "output_type": "stream",
          "name": "stderr",
          "text": [
            "\n",
            "[*********************100%%**********************]  1 of 1 completed"
          ]
        },
        {
          "output_type": "stream",
          "name": "stdout",
          "text": [
            "BL Portfolio performance: 53.33915577526093\n",
            "Equally weighted performance: 51.811204338073736\n",
            "Cap-weighted performance: 49.15454300144868\n",
            "Quarter: 504\n"
          ]
        },
        {
          "output_type": "stream",
          "name": "stderr",
          "text": [
            "\n",
            "[*********************100%%**********************]  1 of 1 completed"
          ]
        },
        {
          "output_type": "stream",
          "name": "stdout",
          "text": [
            "BL Portfolio performance: 52.85793275201798\n",
            "Equally weighted performance: 53.073682975769046\n",
            "Cap-weighted performance: 52.854226560827165\n",
            "Quarter: 567\n"
          ]
        },
        {
          "output_type": "stream",
          "name": "stderr",
          "text": [
            "\n",
            "[*********************100%%**********************]  1 of 1 completed"
          ]
        },
        {
          "output_type": "stream",
          "name": "stdout",
          "text": [
            "BL Portfolio performance: 54.43504168344497\n",
            "Equally weighted performance: 55.21105079650879\n",
            "Cap-weighted performance: 58.52668811549369\n",
            "Quarter: 630\n"
          ]
        },
        {
          "output_type": "stream",
          "name": "stderr",
          "text": [
            "\n",
            "[*********************100%%**********************]  1 of 1 completed"
          ]
        },
        {
          "output_type": "stream",
          "name": "stdout",
          "text": [
            "BL Portfolio performance: 57.1288190499115\n",
            "Equally weighted performance: 61.613336563110344\n",
            "Cap-weighted performance: 68.37279706530005\n",
            "Quarter: 693\n"
          ]
        },
        {
          "output_type": "stream",
          "name": "stderr",
          "text": [
            "\n",
            "[*********************100%%**********************]  1 of 1 completed"
          ]
        },
        {
          "output_type": "stream",
          "name": "stdout",
          "text": [
            "BL Portfolio performance: 52.55086566768646\n",
            "Equally weighted performance: 52.51023502349854\n",
            "Cap-weighted performance: 52.594270011736725\n",
            "Quarter: 756\n"
          ]
        },
        {
          "output_type": "stream",
          "name": "stderr",
          "text": [
            "\n",
            "[*********************100%%**********************]  1 of 1 completed"
          ]
        },
        {
          "output_type": "stream",
          "name": "stdout",
          "text": [
            "BL Portfolio performance: 63.172409778728486\n",
            "Equally weighted performance: 62.70807876586914\n",
            "Cap-weighted performance: 65.39656223626017\n",
            "Quarter: 819\n"
          ]
        },
        {
          "output_type": "stream",
          "name": "stderr",
          "text": [
            "\n",
            "[*********************100%%**********************]  1 of 1 completed"
          ]
        },
        {
          "output_type": "stream",
          "name": "stdout",
          "text": [
            "BL Portfolio performance: 65.77517501742363\n",
            "Equally weighted performance: 67.61015462875366\n",
            "Cap-weighted performance: 70.31109004010327\n",
            "Quarter: 882\n"
          ]
        },
        {
          "output_type": "stream",
          "name": "stderr",
          "text": [
            "\n",
            "[*********************100%%**********************]  1 of 1 completed"
          ]
        },
        {
          "output_type": "stream",
          "name": "stdout",
          "text": [
            "BL Portfolio performance: 65.14845707683564\n",
            "Equally weighted performance: 65.47665224075318\n",
            "Cap-weighted performance: 66.73650502247618\n",
            "Quarter: 945\n"
          ]
        },
        {
          "output_type": "stream",
          "name": "stderr",
          "text": [
            "\n",
            "[*********************100%%**********************]  1 of 1 completed"
          ]
        },
        {
          "output_type": "stream",
          "name": "stdout",
          "text": [
            "BL Portfolio performance: 75.14860207954408\n",
            "Equally weighted performance: 75.16951026916504\n",
            "Cap-weighted performance: 76.82254919125847\n",
            "Quarter: 1008\n"
          ]
        },
        {
          "output_type": "stream",
          "name": "stderr",
          "text": [
            "\n",
            "[*********************100%%**********************]  1 of 1 completed"
          ]
        },
        {
          "output_type": "stream",
          "name": "stdout",
          "text": [
            "BL Portfolio performance: 67.25431033205032\n",
            "Equally weighted performance: 64.5424976348877\n",
            "Cap-weighted performance: 70.67004113598007\n",
            "Quarter: 1071\n"
          ]
        },
        {
          "output_type": "stream",
          "name": "stderr",
          "text": [
            "\n",
            "[*********************100%%**********************]  1 of 1 completed"
          ]
        },
        {
          "output_type": "stream",
          "name": "stdout",
          "text": [
            "BL Portfolio performance: 100.20429506553653\n",
            "Equally weighted performance: 89.71100215911866\n",
            "Cap-weighted performance: 104.917742782445\n",
            "Quarter: 1134\n"
          ]
        },
        {
          "output_type": "stream",
          "name": "stderr",
          "text": [
            "\n",
            "[*********************100%%**********************]  1 of 1 completed"
          ]
        },
        {
          "output_type": "stream",
          "name": "stdout",
          "text": [
            "BL Portfolio performance: 119.3950869262123\n",
            "Equally weighted performance: 96.8241491317749\n",
            "Cap-weighted performance: 112.42273254551546\n",
            "Quarter: 1197\n"
          ]
        },
        {
          "output_type": "stream",
          "name": "stderr",
          "text": [
            "\n",
            "[*********************100%%**********************]  1 of 1 completed"
          ]
        },
        {
          "output_type": "stream",
          "name": "stdout",
          "text": [
            "BL Portfolio performance: 141.39022244714738\n",
            "Equally weighted performance: 116.50126361846925\n",
            "Cap-weighted performance: 123.12810557749997\n",
            "Quarter: 1260\n"
          ]
        },
        {
          "output_type": "stream",
          "name": "stderr",
          "text": [
            "\n",
            "[*********************100%%**********************]  1 of 1 completed"
          ]
        },
        {
          "output_type": "stream",
          "name": "stdout",
          "text": [
            "BL Portfolio performance: 154.3443335561371\n",
            "Equally weighted performance: 123.6195671081543\n",
            "Cap-weighted performance: 127.36861493556232\n",
            "Quarter: 1323\n"
          ]
        },
        {
          "output_type": "stream",
          "name": "stderr",
          "text": [
            "\n",
            "[*********************100%%**********************]  1 of 1 completed"
          ]
        },
        {
          "output_type": "stream",
          "name": "stdout",
          "text": [
            "BL Portfolio performance: 155.89354650989532\n",
            "Equally weighted performance: 131.32746353149417\n",
            "Cap-weighted performance: 142.29026764343382\n",
            "Quarter: 1386\n"
          ]
        },
        {
          "output_type": "stream",
          "name": "stderr",
          "text": [
            "\n",
            "[*********************100%%**********************]  1 of 1 completed"
          ]
        },
        {
          "output_type": "stream",
          "name": "stdout",
          "text": [
            "BL Portfolio performance: 138.30522541355134\n",
            "Equally weighted performance: 134.31266975402832\n",
            "Cap-weighted performance: 136.250828225729\n",
            "Quarter: 1449\n"
          ]
        },
        {
          "output_type": "stream",
          "name": "stderr",
          "text": [
            "\n",
            "[*********************100%%**********************]  1 of 1 completed"
          ]
        },
        {
          "output_type": "stream",
          "name": "stdout",
          "text": [
            "BL Portfolio performance: 213.9667138248062\n",
            "Equally weighted performance: 162.06417388916014\n",
            "Cap-weighted performance: 158.90123258002274\n",
            "Quarter: 1512\n"
          ]
        },
        {
          "output_type": "stream",
          "name": "stderr",
          "text": [
            "\n",
            "[*********************100%%**********************]  1 of 1 completed"
          ]
        },
        {
          "output_type": "stream",
          "name": "stdout",
          "text": [
            "BL Portfolio performance: 143.504317414093\n",
            "Equally weighted performance: 155.30530700683596\n",
            "Cap-weighted performance: 154.71032569720575\n",
            "Quarter: 1575\n"
          ]
        },
        {
          "output_type": "stream",
          "name": "stderr",
          "text": [
            "\n",
            "[*********************100%%**********************]  1 of 1 completed"
          ]
        },
        {
          "output_type": "stream",
          "name": "stdout",
          "text": [
            "BL Portfolio performance: 100.80525279123306\n",
            "Equally weighted performance: 120.06754932403564\n",
            "Cap-weighted performance: 118.11718604216375\n",
            "Quarter: 1638\n"
          ]
        },
        {
          "output_type": "stream",
          "name": "stderr",
          "text": [
            "\n",
            "[*********************100%%**********************]  1 of 1 completed"
          ]
        },
        {
          "output_type": "stream",
          "name": "stdout",
          "text": [
            "BL Portfolio performance: 118.03939162548066\n",
            "Equally weighted performance: 120.99613533020019\n",
            "Cap-weighted performance: 119.66485153631248\n",
            "Quarter: 1701\n"
          ]
        },
        {
          "output_type": "stream",
          "name": "stderr",
          "text": [
            "\n",
            "[*********************100%%**********************]  1 of 1 completed"
          ]
        },
        {
          "output_type": "stream",
          "name": "stdout",
          "text": [
            "BL Portfolio performance: 108.70789194755554\n",
            "Equally weighted performance: 107.12669258117677\n",
            "Cap-weighted performance: 103.14907213206882\n",
            "Quarter: 1764\n"
          ]
        },
        {
          "output_type": "stream",
          "name": "stderr",
          "text": [
            "\n",
            "[*********************100%%**********************]  1 of 1 completed"
          ]
        },
        {
          "output_type": "stream",
          "name": "stdout",
          "text": [
            "BL Portfolio performance: 141.22536169960023\n",
            "Equally weighted performance: 125.75926342010499\n",
            "Cap-weighted performance: 125.61612196139214\n",
            "Quarter: 1827\n"
          ]
        },
        {
          "output_type": "stream",
          "name": "stderr",
          "text": [
            "\n",
            "[*********************100%%**********************]  1 of 1 completed"
          ]
        },
        {
          "output_type": "stream",
          "name": "stdout",
          "text": [
            "BL Portfolio performance: 179.17668225452422\n",
            "Equally weighted performance: 149.09547004699706\n",
            "Cap-weighted performance: 151.07919809182818\n",
            "Quarter: 1890\n"
          ]
        },
        {
          "output_type": "stream",
          "name": "stderr",
          "text": [
            "\n",
            "[*********************100%%**********************]  1 of 1 completed"
          ]
        },
        {
          "output_type": "stream",
          "name": "stdout",
          "text": [
            "BL Portfolio performance: 132.00619243743895\n",
            "Equally weighted performance: 141.2051519393921\n",
            "Cap-weighted performance: 142.75006988548304\n",
            "Quarter: 1953\n"
          ]
        },
        {
          "output_type": "stream",
          "name": "stderr",
          "text": [
            "\n",
            "[*********************100%%**********************]  1 of 1 completed"
          ]
        },
        {
          "output_type": "stream",
          "name": "stdout",
          "text": [
            "BL Portfolio performance: 177.0567205240631\n",
            "Equally weighted performance: 151.50103378295898\n",
            "Cap-weighted performance: 153.37097516289782\n",
            "Quarter: 2016\n"
          ]
        },
        {
          "output_type": "stream",
          "name": "stderr",
          "text": [
            "\n",
            "[*********************100%%**********************]  1 of 1 completed"
          ]
        },
        {
          "output_type": "stream",
          "name": "stdout",
          "text": [
            "BL Portfolio performance: 186.97297346767428\n",
            "Equally weighted performance: 158.32944564819334\n",
            "Cap-weighted performance: 168.55774865329855\n",
            "Quarter: 2079\n"
          ]
        },
        {
          "output_type": "stream",
          "name": "stderr",
          "text": [
            "\n",
            "[*********************100%%**********************]  1 of 1 completed"
          ]
        },
        {
          "output_type": "stream",
          "name": "stdout",
          "text": [
            "BL Portfolio performance: 232.66170138053894\n",
            "Equally weighted performance: 180.41927146911624\n",
            "Cap-weighted performance: 197.18966449421993\n",
            "Quarter: 2142\n"
          ]
        },
        {
          "output_type": "stream",
          "name": "stderr",
          "text": [
            "\n"
          ]
        },
        {
          "output_type": "stream",
          "name": "stdout",
          "text": [
            "BL Portfolio performance: 170.92133418880462\n",
            "Equally weighted performance: 171.91599998474123\n",
            "Cap-weighted performance: 186.60217079753963\n"
          ]
        },
        {
          "output_type": "display_data",
          "data": {
            "text/plain": [
              "<Figure size 640x480 with 1 Axes>"
            ],
            "image/png": "[encoded data removed]"
          },
          "metadata": {}
        }
      ]
    },
    {
      "cell_type": "code",
      "source": [
        "def weekly_rebalancing(prices, meta_model_scores, tickers):\n",
        "    print(\"Prices length:\", len(prices))\n",
        "    print(\"Meta model scores length:\", len(meta_model_scores))\n",
        "\n",
        "    # Filter the data to only consider the data from 2016 onwards\n",
        "    prices_2016 = prices[prices.index >= '2016-01-01']\n",
        "    meta_model_scores.index = pd.to_datetime(meta_model_scores.index)\n",
        "    meta_model_scores_2016 = meta_model_scores[meta_model_scores.index >= '2016-01-01']\n",
        "\n",
        "    print(\"Prices 2016 length:\", len(prices_2016))\n",
        "    print(\"Meta model scores 2016 length:\", len(meta_model_scores_2016))\n",
        "\n",
        "    # Initialize the portfolio weights\n",
        "    weights = [1/len(tickers) for _ in tickers]\n",
        "\n",
        "    # Initialize the portfolio performance\n",
        "    portfolio_performance = []\n",
        "\n",
        "    # Initialize the equally weighted portfolio performance\n",
        "    equally_weighted_performance = []\n",
        "\n",
        "    # Initialize the cap-weighted portfolio performance\n",
        "    cap_weighted_performance = []\n",
        "\n",
        "    # Iterate over the weeks\n",
        "    for week in range(0, len(prices_2016), 5):\n",
        "        print(\"Week:\", week)\n",
        "\n",
        "        # Get the prices for the current week\n",
        "        week_prices = prices_2016.iloc[week:week+5]\n",
        "\n",
        "        # Get the meta model scores for the current week\n",
        "        week_meta_model_scores = meta_model_scores_2016.iloc[week:week+5]\n",
        "\n",
        "        # Calculate the market_prior, S, and mcaps for the current week\n",
        "        market_prices = yf.download(\"SPY\", start=week_prices.index[0], end=week_prices.index[-1])[\"Adj Close\"]\n",
        "        delta = black_litterman.market_implied_risk_aversion(market_prices)\n",
        "        S = risk_models.CovarianceShrinkage(week_prices).ledoit_wolf()\n",
        "        mcaps = {}\n",
        "        for t in tickers:\n",
        "            stock = yf.Ticker(t)\n",
        "            mcaps[t] = stock.info[\"marketCap\"]\n",
        "        market_prior = black_litterman.market_implied_prior_returns(mcaps, delta, S)\n",
        "\n",
        "        # Map meta model scores to expected returns using a linear transformation for each stock\n",
        "        absolute_return_views = {}\n",
        "        for stock_code in tickers:\n",
        "            stock_data = stock_price_data[stock_price_data['Stock'] == stock_code]\n",
        "            stock_returns = stock_data['Close'].pct_change().mean()\n",
        "            stock_meta_model_scores = week_meta_model_scores[week_meta_model_scores['Stock'] == stock_code]['Meta Model Score']\n",
        "\n",
        "            if stock_meta_model_scores.empty:\n",
        "                # If there is no data for meta_model_scores, set expected return to mean return\n",
        "                expected_return = stock_returns.mean() * 100\n",
        "            else:\n",
        "                min_meta_model_score = stock_meta_model_scores.min()\n",
        "                max_meta_model_score = stock_meta_model_scores.max()\n",
        "                min_stock_return = stock_returns.min()\n",
        "                max_stock_return = stock_returns.max()\n",
        "\n",
        "                # Apply linear transformation\n",
        "                expected_return = (stock_meta_model_scores.mean() - min_meta_model_score) / (max_meta_model_score - min_meta_model_score) * (max_stock_return - min_stock_return) + min_stock_return\n",
        "                expected_return = expected_return * 100\n",
        "\n",
        "            absolute_return_views[stock_code] = expected_return\n",
        "\n",
        "        # Convert absolute return views to a pandas Series\n",
        "        absolute_return_views = pd.Series(absolute_return_views)\n",
        "\n",
        "        # Calculate posterior weights using market_prior, S, and mcaps\n",
        "        bl = BlackLittermanModel(S, pi=market_prior, absolute_views=absolute_return_views)\n",
        "        ret_bl = bl.bl_returns()\n",
        "        S_bl = bl.bl_cov()\n",
        "        ef = EfficientFrontier(ret_bl, S_bl)\n",
        "        ef.add_objective(objective_functions.L2_reg)\n",
        "        ef.max_quadratic_utility()\n",
        "        week_weights = ef.clean_weights()\n",
        "\n",
        "        # Update the portfolio weights\n",
        "        weights = week_weights\n",
        "\n",
        "        # Calculate the portfolio performance for the current week\n",
        "        portfolio_performance.append(np.sum(pd.Series(weights) * pd.Series(week_prices.iloc[-1])))\n",
        "\n",
        "        print(\"BL Portfolio performance:\", portfolio_performance[-1])\n",
        "\n",
        "        # Calculate the equally weighted portfolio performance for the current week\n",
        "        equally_weighted_performance.append(np.sum([1/len(tickers) for _ in tickers] * pd.Series(week_prices.iloc[-1])))\n",
        "\n",
        "        print(\"Equally weighted performance:\", equally_weighted_performance[-1])\n",
        "\n",
        "        # Calculate the cap-weighted portfolio performance for the current week\n",
        "        cap_weighted_performance.append(np.sum([mcaps[ticker] / sum(mcaps.values()) for ticker in tickers] * pd.Series(week_prices.iloc[-1])))\n",
        "\n",
        "        print(\"Cap-weighted performance:\", cap_weighted_performance[-1])\n",
        "\n",
        "    # Plot the portfolio performance graph\n",
        "    dates = prices_2016.index[::5]\n",
        "    plt.plot(dates, portfolio_performance, label='Black-Litterman Portfolio')\n",
        "    plt.plot(dates, equally_weighted_performance, label='Equally Weighted Portfolio')\n",
        "    plt.plot(dates, cap_weighted_performance, label='Cap-Weighted Portfolio')\n",
        "    plt.xlabel('Date')\n",
        "    plt.ylabel('Portfolio Performance')\n",
        "    plt\n",
        "\n",
        "    # Call the function with the required arguments\n",
        "quarterly_rebalancing(prices, meta_model_scores, tickers)"
      ],
      "metadata": {
        "colab": {
          "base_uri": "https://localhost:8080/",
          "height": 1000
        },
        "id": "WxoObic_Spxf",
        "outputId": "bc8a96c8-ea05-4979-8538-294b15fa0f9d"
      },
      "execution_count": null,
      "outputs": [
        {
          "output_type": "stream",
          "name": "stderr",
          "text": [
            "\r[*********************100%%**********************]  1 of 1 completed"
          ]
        },
        {
          "output_type": "stream",
          "name": "stdout",
          "text": [
            "Prices length: 13166\n",
            "Meta model scores length: 3122\n",
            "Prices 2016 length: 2171\n",
            "Meta model scores 2016 length: 0\n",
            "Quarter: 0\n"
          ]
        },
        {
          "output_type": "stream",
          "name": "stderr",
          "text": [
            "\n",
            "[*********************100%%**********************]  1 of 1 completed"
          ]
        },
        {
          "output_type": "stream",
          "name": "stdout",
          "text": [
            "BL Portfolio performance: 32.93022572095871\n",
            "Equally weighted performance: 33.38234281539918\n",
            "Cap-weighted performance: 30.164103736655573\n",
            "Quarter: 63\n"
          ]
        },
        {
          "output_type": "stream",
          "name": "stderr",
          "text": [
            "\n",
            "[*********************100%%**********************]  1 of 1 completed"
          ]
        },
        {
          "output_type": "stream",
          "name": "stdout",
          "text": [
            "BL Portfolio performance: 32.81576285060883\n",
            "Equally weighted performance: 33.839772415161136\n",
            "Cap-weighted performance: 31.17247287530737\n",
            "Quarter: 126\n"
          ]
        },
        {
          "output_type": "stream",
          "name": "stderr",
          "text": [
            "\n",
            "[*********************100%%**********************]  1 of 1 completed"
          ]
        },
        {
          "output_type": "stream",
          "name": "stdout",
          "text": [
            "BL Portfolio performance: 35.093761446809765\n",
            "Equally weighted performance: 36.79117555618287\n",
            "Cap-weighted performance: 34.64133642453096\n",
            "Quarter: 189\n"
          ]
        },
        {
          "output_type": "stream",
          "name": "stderr",
          "text": [
            "\n",
            "[*********************100%%**********************]  1 of 1 completed"
          ]
        },
        {
          "output_type": "stream",
          "name": "stdout",
          "text": [
            "BL Portfolio performance: 37.311603157062535\n",
            "Equally weighted performance: 38.766275787353514\n",
            "Cap-weighted performance: 34.0105229479355\n",
            "Quarter: 252\n"
          ]
        },
        {
          "output_type": "stream",
          "name": "stderr",
          "text": [
            "\n",
            "[*********************100%%**********************]  1 of 1 completed"
          ]
        },
        {
          "output_type": "stream",
          "name": "stdout",
          "text": [
            "BL Portfolio performance: 39.67708238954544\n",
            "Equally weighted performance: 42.89705791473389\n",
            "Cap-weighted performance: 39.75262247542328\n",
            "Quarter: 315\n"
          ]
        },
        {
          "output_type": "stream",
          "name": "stderr",
          "text": [
            "\n",
            "[*********************100%%**********************]  1 of 1 completed"
          ]
        },
        {
          "output_type": "stream",
          "name": "stdout",
          "text": [
            "BL Portfolio performance: 42.87150491600037\n",
            "Equally weighted performance: 45.082480621337886\n",
            "Cap-weighted performance: 41.81929555924248\n",
            "Quarter: 378\n"
          ]
        },
        {
          "output_type": "stream",
          "name": "stderr",
          "text": [
            "\n",
            "[*********************100%%**********************]  1 of 1 completed"
          ]
        },
        {
          "output_type": "stream",
          "name": "stdout",
          "text": [
            "BL Portfolio performance: 43.19688000001908\n",
            "Equally weighted performance: 46.428992462158206\n",
            "Cap-weighted performance: 43.1727058629586\n",
            "Quarter: 441\n"
          ]
        },
        {
          "output_type": "stream",
          "name": "stderr",
          "text": [
            "\n",
            "[*********************100%%**********************]  1 of 1 completed"
          ]
        },
        {
          "output_type": "stream",
          "name": "stdout",
          "text": [
            "BL Portfolio performance: 53.33915577526093\n",
            "Equally weighted performance: 51.811204338073736\n",
            "Cap-weighted performance: 49.15454300144868\n",
            "Quarter: 504\n"
          ]
        },
        {
          "output_type": "stream",
          "name": "stderr",
          "text": [
            "\n",
            "[*********************100%%**********************]  1 of 1 completed"
          ]
        },
        {
          "output_type": "stream",
          "name": "stdout",
          "text": [
            "BL Portfolio performance: 52.85793275201798\n",
            "Equally weighted performance: 53.073682975769046\n",
            "Cap-weighted performance: 52.854226560827165\n",
            "Quarter: 567\n"
          ]
        },
        {
          "output_type": "stream",
          "name": "stderr",
          "text": [
            "\n",
            "[*********************100%%**********************]  1 of 1 completed"
          ]
        },
        {
          "output_type": "stream",
          "name": "stdout",
          "text": [
            "BL Portfolio performance: 54.43504168344497\n",
            "Equally weighted performance: 55.21105079650879\n",
            "Cap-weighted performance: 58.52668811549369\n",
            "Quarter: 630\n"
          ]
        },
        {
          "output_type": "stream",
          "name": "stderr",
          "text": [
            "\n",
            "[*********************100%%**********************]  1 of 1 completed"
          ]
        },
        {
          "output_type": "stream",
          "name": "stdout",
          "text": [
            "BL Portfolio performance: 57.1288190499115\n",
            "Equally weighted performance: 61.613336563110344\n",
            "Cap-weighted performance: 68.37279706530005\n",
            "Quarter: 693\n"
          ]
        },
        {
          "output_type": "stream",
          "name": "stderr",
          "text": [
            "\n",
            "[*********************100%%**********************]  1 of 1 completed"
          ]
        },
        {
          "output_type": "stream",
          "name": "stdout",
          "text": [
            "BL Portfolio performance: 52.55086566768646\n",
            "Equally weighted performance: 52.51023502349854\n",
            "Cap-weighted performance: 52.594270011736725\n",
            "Quarter: 756\n"
          ]
        },
        {
          "output_type": "stream",
          "name": "stderr",
          "text": [
            "\n",
            "[*********************100%%**********************]  1 of 1 completed"
          ]
        },
        {
          "output_type": "stream",
          "name": "stdout",
          "text": [
            "BL Portfolio performance: 63.172409778728486\n",
            "Equally weighted performance: 62.70807876586914\n",
            "Cap-weighted performance: 65.39656223626017\n",
            "Quarter: 819\n"
          ]
        },
        {
          "output_type": "stream",
          "name": "stderr",
          "text": [
            "\n",
            "[*********************100%%**********************]  1 of 1 completed"
          ]
        },
        {
          "output_type": "stream",
          "name": "stdout",
          "text": [
            "BL Portfolio performance: 65.77517501742363\n",
            "Equally weighted performance: 67.61015462875366\n",
            "Cap-weighted performance: 70.31109004010327\n",
            "Quarter: 882\n"
          ]
        },
        {
          "output_type": "stream",
          "name": "stderr",
          "text": [
            "\n",
            "[*********************100%%**********************]  1 of 1 completed"
          ]
        },
        {
          "output_type": "stream",
          "name": "stdout",
          "text": [
            "BL Portfolio performance: 65.14845707683564\n",
            "Equally weighted performance: 65.47665224075318\n",
            "Cap-weighted performance: 66.73650502247618\n",
            "Quarter: 945\n"
          ]
        },
        {
          "output_type": "stream",
          "name": "stderr",
          "text": [
            "\n",
            "[*********************100%%**********************]  1 of 1 completed"
          ]
        },
        {
          "output_type": "stream",
          "name": "stdout",
          "text": [
            "BL Portfolio performance: 75.14860207954408\n",
            "Equally weighted performance: 75.16951026916504\n",
            "Cap-weighted performance: 76.82254919125847\n",
            "Quarter: 1008\n"
          ]
        },
        {
          "output_type": "stream",
          "name": "stderr",
          "text": [
            "\n",
            "[*********************100%%**********************]  1 of 1 completed"
          ]
        },
        {
          "output_type": "stream",
          "name": "stdout",
          "text": [
            "BL Portfolio performance: 67.25431033205032\n",
            "Equally weighted performance: 64.5424976348877\n",
            "Cap-weighted performance: 70.67004113598007\n",
            "Quarter: 1071\n"
          ]
        },
        {
          "output_type": "stream",
          "name": "stderr",
          "text": [
            "\n",
            "[*********************100%%**********************]  1 of 1 completed"
          ]
        },
        {
          "output_type": "stream",
          "name": "stdout",
          "text": [
            "BL Portfolio performance: 100.20429506553653\n",
            "Equally weighted performance: 89.71100215911866\n",
            "Cap-weighted performance: 104.917742782445\n",
            "Quarter: 1134\n"
          ]
        },
        {
          "output_type": "stream",
          "name": "stderr",
          "text": [
            "\n",
            "[*********************100%%**********************]  1 of 1 completed"
          ]
        },
        {
          "output_type": "stream",
          "name": "stdout",
          "text": [
            "BL Portfolio performance: 119.3950869262123\n",
            "Equally weighted performance: 96.8241491317749\n",
            "Cap-weighted performance: 112.42273254551546\n",
            "Quarter: 1197\n"
          ]
        },
        {
          "output_type": "stream",
          "name": "stderr",
          "text": [
            "\n",
            "[*********************100%%**********************]  1 of 1 completed"
          ]
        },
        {
          "output_type": "stream",
          "name": "stdout",
          "text": [
            "BL Portfolio performance: 141.39022244714738\n",
            "Equally weighted performance: 116.50126361846925\n",
            "Cap-weighted performance: 123.12810557749997\n",
            "Quarter: 1260\n"
          ]
        },
        {
          "output_type": "stream",
          "name": "stderr",
          "text": [
            "\n",
            "[*********************100%%**********************]  1 of 1 completed"
          ]
        },
        {
          "output_type": "stream",
          "name": "stdout",
          "text": [
            "BL Portfolio performance: 154.3443335561371\n",
            "Equally weighted performance: 123.6195671081543\n",
            "Cap-weighted performance: 127.36861493556232\n",
            "Quarter: 1323\n"
          ]
        },
        {
          "output_type": "stream",
          "name": "stderr",
          "text": [
            "\n",
            "[*********************100%%**********************]  1 of 1 completed"
          ]
        },
        {
          "output_type": "stream",
          "name": "stdout",
          "text": [
            "BL Portfolio performance: 155.89354650989532\n",
            "Equally weighted performance: 131.32746353149417\n",
            "Cap-weighted performance: 142.29026764343382\n",
            "Quarter: 1386\n"
          ]
        },
        {
          "output_type": "stream",
          "name": "stderr",
          "text": [
            "\n",
            "[*********************100%%**********************]  1 of 1 completed"
          ]
        },
        {
          "output_type": "stream",
          "name": "stdout",
          "text": [
            "BL Portfolio performance: 138.30522541355134\n",
            "Equally weighted performance: 134.31266975402832\n",
            "Cap-weighted performance: 136.250828225729\n",
            "Quarter: 1449\n"
          ]
        },
        {
          "output_type": "stream",
          "name": "stderr",
          "text": [
            "\n",
            "[*********************100%%**********************]  1 of 1 completed"
          ]
        },
        {
          "output_type": "stream",
          "name": "stdout",
          "text": [
            "BL Portfolio performance: 213.9667138248062\n",
            "Equally weighted performance: 162.06417388916014\n",
            "Cap-weighted performance: 158.90123258002274\n",
            "Quarter: 1512\n"
          ]
        },
        {
          "output_type": "stream",
          "name": "stderr",
          "text": [
            "\n",
            "[*********************100%%**********************]  1 of 1 completed"
          ]
        },
        {
          "output_type": "stream",
          "name": "stdout",
          "text": [
            "BL Portfolio performance: 143.504317414093\n",
            "Equally weighted performance: 155.30530700683596\n",
            "Cap-weighted performance: 154.71032569720575\n",
            "Quarter: 1575\n"
          ]
        },
        {
          "output_type": "stream",
          "name": "stderr",
          "text": [
            "\n",
            "[*********************100%%**********************]  1 of 1 completed"
          ]
        },
        {
          "output_type": "stream",
          "name": "stdout",
          "text": [
            "BL Portfolio performance: 100.80525279123306\n",
            "Equally weighted performance: 120.06754932403564\n",
            "Cap-weighted performance: 118.11718604216375\n",
            "Quarter: 1638\n"
          ]
        },
        {
          "output_type": "stream",
          "name": "stderr",
          "text": [
            "\n",
            "[*********************100%%**********************]  1 of 1 completed"
          ]
        },
        {
          "output_type": "stream",
          "name": "stdout",
          "text": [
            "BL Portfolio performance: 118.03939162548066\n",
            "Equally weighted performance: 120.99613533020019\n",
            "Cap-weighted performance: 119.66485153631248\n",
            "Quarter: 1701\n"
          ]
        },
        {
          "output_type": "stream",
          "name": "stderr",
          "text": [
            "\n",
            "[*********************100%%**********************]  1 of 1 completed"
          ]
        },
        {
          "output_type": "stream",
          "name": "stdout",
          "text": [
            "BL Portfolio performance: 108.70789194755554\n",
            "Equally weighted performance: 107.12669258117677\n",
            "Cap-weighted performance: 103.14907213206882\n",
            "Quarter: 1764\n"
          ]
        },
        {
          "output_type": "stream",
          "name": "stderr",
          "text": [
            "\n",
            "[*********************100%%**********************]  1 of 1 completed"
          ]
        },
        {
          "output_type": "stream",
          "name": "stdout",
          "text": [
            "BL Portfolio performance: 141.22536169960023\n",
            "Equally weighted performance: 125.75926342010499\n",
            "Cap-weighted performance: 125.61612196139214\n",
            "Quarter: 1827\n"
          ]
        },
        {
          "output_type": "stream",
          "name": "stderr",
          "text": [
            "\n",
            "[*********************100%%**********************]  1 of 1 completed"
          ]
        },
        {
          "output_type": "stream",
          "name": "stdout",
          "text": [
            "BL Portfolio performance: 179.17668225452422\n",
            "Equally weighted performance: 149.09547004699706\n",
            "Cap-weighted performance: 151.07919809182818\n",
            "Quarter: 1890\n"
          ]
        },
        {
          "output_type": "stream",
          "name": "stderr",
          "text": [
            "\n",
            "[*********************100%%**********************]  1 of 1 completed"
          ]
        },
        {
          "output_type": "stream",
          "name": "stdout",
          "text": [
            "BL Portfolio performance: 132.00619243743895\n",
            "Equally weighted performance: 141.2051519393921\n",
            "Cap-weighted performance: 142.75006988548304\n",
            "Quarter: 1953\n"
          ]
        },
        {
          "output_type": "stream",
          "name": "stderr",
          "text": [
            "\n",
            "[*********************100%%**********************]  1 of 1 completed"
          ]
        },
        {
          "output_type": "stream",
          "name": "stdout",
          "text": [
            "BL Portfolio performance: 177.0567205240631\n",
            "Equally weighted performance: 151.50103378295898\n",
            "Cap-weighted performance: 153.37097516289782\n",
            "Quarter: 2016\n"
          ]
        },
        {
          "output_type": "stream",
          "name": "stderr",
          "text": [
            "\n",
            "[*********************100%%**********************]  1 of 1 completed"
          ]
        },
        {
          "output_type": "stream",
          "name": "stdout",
          "text": [
            "BL Portfolio performance: 186.97297346767428\n",
            "Equally weighted performance: 158.32944564819334\n",
            "Cap-weighted performance: 168.55774865329855\n",
            "Quarter: 2079\n"
          ]
        },
        {
          "output_type": "stream",
          "name": "stderr",
          "text": [
            "\n",
            "[*********************100%%**********************]  1 of 1 completed"
          ]
        },
        {
          "output_type": "stream",
          "name": "stdout",
          "text": [
            "BL Portfolio performance: 232.66170138053894\n",
            "Equally weighted performance: 180.41927146911624\n",
            "Cap-weighted performance: 197.18966449421993\n",
            "Quarter: 2142\n"
          ]
        },
        {
          "output_type": "stream",
          "name": "stderr",
          "text": [
            "\n"
          ]
        },
        {
          "output_type": "stream",
          "name": "stdout",
          "text": [
            "BL Portfolio performance: 170.92133418880462\n",
            "Equally weighted performance: 171.91599998474123\n",
            "Cap-weighted performance: 186.60217079753963\n"
          ]
        },
        {
          "output_type": "display_data",
          "data": {
            "text/plain": [
              "<Figure size 640x480 with 1 Axes>"
            ],
            "image/png": "[encoded data removed]"
          },
          "metadata": {}
        }
      ]
    }
  ]
}